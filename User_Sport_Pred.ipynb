{
 "cells": [
  {
   "cell_type": "code",
   "execution_count": 1,
   "metadata": {},
   "outputs": [],
   "source": [
    "# import modules\n",
    "from sklearn.model_selection import train_test_split\n",
    "from sklearn.preprocessing import StandardScaler\n",
    "from sklearn.linear_model import LogisticRegression\n",
    "import pandas as pd\n",
    "import tensorflow as tf\n",
    "import numpy as np\n",
    "import pickle\n",
    "import pandas as pd\n",
    "import json\n",
    "import os"
   ]
  },
  {
   "cell_type": "code",
   "execution_count": 2,
   "metadata": {},
   "outputs": [],
   "source": [
    "# import variables\n",
    "mRegression_empty = pd.read_csv('./PredVariables/mRegression_empty.csv')\n",
    "fRegression_empty = pd.read_csv('./PredVariables/fRegression_empty.csv')\n"
   ]
  },
  {
   "cell_type": "code",
   "execution_count": 3,
   "metadata": {},
   "outputs": [],
   "source": [
    "# import logistic regression models\n",
    "fArchery_clf = pickle.load(open('./H5/fArchery.pkl', 'rb'))\n",
    "fAthletics_clf = pickle.load(open('./H5/fAthletics.pkl', 'rb'))\n",
    "fBadminton_clf = pickle.load(open('./H5/fBadminton.pkl', 'rb'))\n",
    "fBasketball_clf = pickle.load(open('./H5/fBasketball.pkl', 'rb'))\n",
    "fBeach_Volleyball_clf = pickle.load(open('./H5/fBeach_Volleyball.pkl', 'rb'))\n",
    "fBoxing_clf = pickle.load(open('./H5/fBoxing.pkl', 'rb'))\n",
    "fCanoeing_clf = pickle.load(open('./H5/fCycling.pkl', 'rb'))\n",
    "fCycling_clf = pickle.load(open('./H5/fCanoeing.pkl', 'rb'))\n",
    "fDiving_clf = pickle.load(open('./H5/fDiving.pkl', 'rb'))\n",
    "fEquestrianism_clf = pickle.load(open('./H5/fEquestrianism.pkl', 'rb'))\n",
    "fFencing_clf = pickle.load(open('./H5/fFencing.pkl', 'rb'))\n",
    "fFootball_clf = pickle.load(open('./H5/fFootball.pkl', 'rb'))\n",
    "fGolf_clf = pickle.load(open('./H5/fGolf.pkl', 'rb'))\n",
    "fGymnastics_clf = pickle.load(open('./H5/fGymnastics.pkl', 'rb'))\n",
    "fHandball_clf = pickle.load(open('./H5/fHandball.pkl', 'rb'))\n",
    "fHockey_clf = pickle.load(open('./H5/fArchery.pkl', 'rb'))\n",
    "fJudo_clf = pickle.load(open('./H5/fJudo.pkl', 'rb'))\n",
    "fModern_Pentathlon_clf = pickle.load(open('./H5/fModern_Pentathlon.pkl', 'rb'))\n",
    "fRhythmic_Gymnastics_clf = pickle.load(open('./H5/fRhythmic_Gymnastics.pkl', 'rb'))\n",
    "fRowing_clf = pickle.load(open('./H5/fRowing.pkl', 'rb'))\n",
    "fRugby_Sevens_clf = pickle.load(open('./H5/fRugby_Sevens.pkl', 'rb'))\n",
    "fShooting_clf = pickle.load(open('./H5/fShooting.pkl', 'rb'))\n",
    "fSoftball_clf = pickle.load(open('./H5/fSoftball.pkl', 'rb'))\n",
    "fSwimming_clf = pickle.load(open('./H5/fRowing.pkl', 'rb'))\n",
    "fSynchronized_Swimming_clf = pickle.load(open('./H5/fSynchronized_Swimming.pkl', 'rb'))\n",
    "fTable_Tennis_clf = pickle.load(open('./H5/fTable_Tennis.pkl', 'rb'))\n",
    "fTaekwondo_clf = pickle.load(open('./H5/fTaekwondo.pkl', 'rb'))\n",
    "fTennis_clf = pickle.load(open('./H5/fTennis.pkl', 'rb'))\n",
    "fTrampolining_clf = pickle.load(open('./H5/fTrampolining.pkl', 'rb'))\n",
    "fTriathlon_clf = pickle.load(open('./H5/fTriathlon.pkl', 'rb'))\n",
    "fVolleyball_clf = pickle.load(open('./H5/fVolleyball.pkl', 'rb'))\n",
    "fWater_Polo_clf = pickle.load(open('./H5/fWater_Polo.pkl', 'rb'))\n",
    "fWeightlifting_clf = pickle.load(open('./H5/fWeightlifting.pkl', 'rb'))\n",
    "fWrestling_clf = pickle.load(open('./H5/fWrestling.pkl', 'rb'))\n",
    "\n",
    "mArchery_clf = pickle.load(open('./H5/mArchery.pkl', 'rb'))\n",
    "mAthletics_clf = pickle.load(open('./H5/mAthletics.pkl', 'rb'))\n",
    "mBadminton_clf = pickle.load(open('./H5/mBadminton.pkl', 'rb'))\n",
    "mBaseball_clf = pickle.load(open('./H5/mBaseball.pkl', 'rb'))\n",
    "mBasketball_clf = pickle.load(open('./H5/mBasketball.pkl', 'rb'))\n",
    "mBeach_Volleyball_clf = pickle.load(open('./H5/mBeach_Volleyball.pkl', 'rb'))\n",
    "mBoxing_clf = pickle.load(open('./H5/mBoxing.pkl', 'rb'))\n",
    "mCycling_clf = pickle.load(open('./H5/mCycling.pkl', 'rb'))\n",
    "mCanoeing_clf = pickle.load(open('./H5/mCanoeing.pkl', 'rb'))\n",
    "mDiving_clf = pickle.load(open('./H5/mDiving.pkl', 'rb'))\n",
    "mEquestrianism_clf = pickle.load(open('./H5/mEquestrianism.pkl', 'rb'))\n",
    "mFencing_clf = pickle.load(open('./H5/mFencing.pkl', 'rb'))\n",
    "mFootball_clf = pickle.load(open('./H5/mFootball.pkl', 'rb'))\n",
    "mGolf_clf = pickle.load(open('./H5/mGolf.pkl', 'rb'))\n",
    "mGymnastics_clf = pickle.load(open('./H5/mGymnastics.pkl', 'rb'))\n",
    "mHandball_clf = pickle.load(open('./H5/mHandball.pkl', 'rb'))\n",
    "mHockey_clf = pickle.load(open('./H5/mArchery.pkl', 'rb'))\n",
    "mJudo_clf = pickle.load(open('./H5/mJudo.pkl', 'rb'))\n",
    "mModern_Pentathlon_clf = pickle.load(open('./H5/mModern_Pentathlon.pkl', 'rb'))\n",
    "mRowing_clf = pickle.load(open('./H5/mRowing.pkl', 'rb'))\n",
    "mRugby_Sevens_clf = pickle.load(open('./H5/mRugby_Sevens.pkl', 'rb'))\n",
    "mShooting_clf = pickle.load(open('./H5/mShooting.pkl', 'rb'))\n",
    "mSwimming_clf = pickle.load(open('./H5/mRowing.pkl', 'rb'))\n",
    "mTable_Tennis_clf = pickle.load(open('./H5/mTable_Tennis.pkl', 'rb'))\n",
    "mTaekwondo_clf = pickle.load(open('./H5/mTaekwondo.pkl', 'rb'))\n",
    "mTennis_clf = pickle.load(open('./H5/mTennis.pkl', 'rb'))\n",
    "mTrampolining_clf = pickle.load(open('./H5/mTrampolining.pkl', 'rb'))\n",
    "mTriathlon_clf = pickle.load(open('./H5/mTriathlon.pkl', 'rb'))\n",
    "mVolleyball_clf = pickle.load(open('./H5/mVolleyball.pkl', 'rb'))\n",
    "mWater_Polo_clf = pickle.load(open('./H5/mWater_Polo.pkl', 'rb'))\n",
    "mWeightlifting_clf = pickle.load(open('./H5/mWeightlifting.pkl', 'rb'))\n",
    "mWrestling_clf = pickle.load(open('./H5/mWrestling.pkl', 'rb'))\n",
    "\n"
   ]
  },
  {
   "cell_type": "code",
   "execution_count": 4,
   "metadata": {},
   "outputs": [],
   "source": [
    "# Recreate bins\n",
    "bin_names = ['0', '1', '2', '3', '4', '5', '6', '7', '8']\n",
    "\n",
    "mAge_bins = np.array([12, 18.55555556, 25.11111111, 31.66666667, 38.22222222, 44.77777778, 51.33333333, 57.88888889, 64.44444444, 71])\n",
    "mHeight_bins = np.array([127, 138, 149, 160, 171, 182, 193, 204, 215, 226])\n",
    "mWeight_bins = np.array([ 37, 56.66666667, 76.33333333, 96, 115.66666667, 135.33333333, 155, 174.66666667, 194.33333333, 214])\n",
    "\n",
    "fAge_bins = np.array([11, 17.44444444, 23.88888889, 30.33333333, 36.77777778, 43.22222222, 49.66666667, 56.11111111, 62.55555556, 69])\n",
    "fHeight_bins = np.array([127, 136.55555556, 146.11111111, 155.66666667, 165.22222222, 174.77777778, 184.33333333, 193.88888889, 203.44444444, 213])\n",
    "fWeight_bins = np.array([25, 40.77777778, 56.55555556, 72.33333333, 88.11111111, 103.88888889, 119.66666667, 135.44444444, 151.22222222, 167])"
   ]
  },
  {
   "cell_type": "code",
   "execution_count": 5,
   "metadata": {},
   "outputs": [],
   "source": [
    "# Create example user info\n",
    "user_Sex = 'M'\n",
    "user_Age = 30\n",
    "user_Height = 185\n",
    "user_Weight = 77\n",
    "user_NOC = 'USA'"
   ]
  },
  {
   "cell_type": "code",
   "execution_count": 6,
   "metadata": {},
   "outputs": [
    {
     "data": {
      "text/html": [
       "<div>\n",
       "<style scoped>\n",
       "    .dataframe tbody tr th:only-of-type {\n",
       "        vertical-align: middle;\n",
       "    }\n",
       "\n",
       "    .dataframe tbody tr th {\n",
       "        vertical-align: top;\n",
       "    }\n",
       "\n",
       "    .dataframe thead th {\n",
       "        text-align: right;\n",
       "    }\n",
       "</style>\n",
       "<table border=\"1\" class=\"dataframe\">\n",
       "  <thead>\n",
       "    <tr style=\"text-align: right;\">\n",
       "      <th></th>\n",
       "      <th>Age</th>\n",
       "      <th>Height</th>\n",
       "      <th>Weight</th>\n",
       "      <th>NOC</th>\n",
       "    </tr>\n",
       "  </thead>\n",
       "  <tbody>\n",
       "    <tr>\n",
       "      <th>0</th>\n",
       "      <td>30</td>\n",
       "      <td>185</td>\n",
       "      <td>77</td>\n",
       "      <td>URS</td>\n",
       "    </tr>\n",
       "  </tbody>\n",
       "</table>\n",
       "</div>"
      ],
      "text/plain": [
       "   Age  Height  Weight  NOC\n",
       "0   30     185      77  URS"
      ]
     },
     "execution_count": 6,
     "metadata": {},
     "output_type": "execute_result"
    }
   ],
   "source": [
    "# Turn user input into dataframe\n",
    "\n",
    "user_df = pd.DataFrame(\n",
    "    {\n",
    "     \"Age\": [user_Age],\n",
    "     \"Height\": [user_Height],\n",
    "     \"Weight\": [user_Weight],\n",
    "     \"NOC\": [user_NOC]\n",
    "     }\n",
    ")\n",
    "\n",
    "user_df"
   ]
  },
  {
   "cell_type": "code",
   "execution_count": 7,
   "metadata": {},
   "outputs": [],
   "source": [
    "user_df['Age'] = user_df['Age'].astype(float, errors = 'raise')\n",
    "user_df['Height'] = user_df['Height'].astype(float, errors = 'raise')\n",
    "user_df['Weight'] = user_df['Weight'].astype(float, errors = 'raise')"
   ]
  },
  {
   "cell_type": "code",
   "execution_count": 8,
   "metadata": {},
   "outputs": [
    {
     "data": {
      "text/html": [
       "<div>\n",
       "<style scoped>\n",
       "    .dataframe tbody tr th:only-of-type {\n",
       "        vertical-align: middle;\n",
       "    }\n",
       "\n",
       "    .dataframe tbody tr th {\n",
       "        vertical-align: top;\n",
       "    }\n",
       "\n",
       "    .dataframe thead th {\n",
       "        text-align: right;\n",
       "    }\n",
       "</style>\n",
       "<table border=\"1\" class=\"dataframe\">\n",
       "  <thead>\n",
       "    <tr style=\"text-align: right;\">\n",
       "      <th></th>\n",
       "      <th>Age</th>\n",
       "      <th>Height</th>\n",
       "      <th>Weight</th>\n",
       "      <th>NOC</th>\n",
       "    </tr>\n",
       "  </thead>\n",
       "  <tbody>\n",
       "    <tr>\n",
       "      <th>0</th>\n",
       "      <td>2</td>\n",
       "      <td>5</td>\n",
       "      <td>2</td>\n",
       "      <td>NOC_URS</td>\n",
       "    </tr>\n",
       "  </tbody>\n",
       "</table>\n",
       "</div>"
      ],
      "text/plain": [
       "  Age Height Weight      NOC\n",
       "0   2      5      2  NOC_URS"
      ]
     },
     "execution_count": 8,
     "metadata": {},
     "output_type": "execute_result"
    }
   ],
   "source": [
    "# bin user info\n",
    "user_df[\"Age\"] = pd.cut(user_df[\"Age\"], mAge_bins, labels=bin_names)\n",
    "user_df[\"Height\"] = pd.cut(user_df[\"Height\"], mHeight_bins, labels=bin_names)\n",
    "user_df[\"Weight\"] = pd.cut(user_df[\"Weight\"], mWeight_bins, labels=bin_names)\n",
    "user_df[\"NOC\"] = 'NOC_' + user_df[\"NOC\"].astype(str)\n",
    "\n",
    "user_df"
   ]
  },
  {
   "cell_type": "code",
   "execution_count": 9,
   "metadata": {},
   "outputs": [
    {
     "data": {
      "text/html": [
       "<div>\n",
       "<style scoped>\n",
       "    .dataframe tbody tr th:only-of-type {\n",
       "        vertical-align: middle;\n",
       "    }\n",
       "\n",
       "    .dataframe tbody tr th {\n",
       "        vertical-align: top;\n",
       "    }\n",
       "\n",
       "    .dataframe thead th {\n",
       "        text-align: right;\n",
       "    }\n",
       "</style>\n",
       "<table border=\"1\" class=\"dataframe\">\n",
       "  <thead>\n",
       "    <tr style=\"text-align: right;\">\n",
       "      <th></th>\n",
       "      <th>Age</th>\n",
       "      <th>Height</th>\n",
       "      <th>Weight</th>\n",
       "      <th>NOC</th>\n",
       "    </tr>\n",
       "  </thead>\n",
       "  <tbody>\n",
       "    <tr>\n",
       "      <th>0</th>\n",
       "      <td>Age_2</td>\n",
       "      <td>Height_5</td>\n",
       "      <td>Weight_2</td>\n",
       "      <td>NOC_URS</td>\n",
       "    </tr>\n",
       "  </tbody>\n",
       "</table>\n",
       "</div>"
      ],
      "text/plain": [
       "     Age    Height    Weight      NOC\n",
       "0  Age_2  Height_5  Weight_2  NOC_URS"
      ]
     },
     "execution_count": 9,
     "metadata": {},
     "output_type": "execute_result"
    }
   ],
   "source": [
    "# Edit values to match columns in regression dataframes\n",
    "user_df[\"Age\"] = 'Age_' + user_df[\"Age\"].astype(str)\n",
    "user_df[\"Height\"] = 'Height_' + user_df[\"Height\"].astype(str)\n",
    "user_df[\"Weight\"] = 'Weight_' + user_df[\"Weight\"].astype(str)\n",
    "\n",
    "user_df"
   ]
  },
  {
   "cell_type": "code",
   "execution_count": 10,
   "metadata": {},
   "outputs": [
    {
     "name": "stdout",
     "output_type": "stream",
     "text": [
      "['Unnamed: 0', 'Age_0', 'Age_1', 'Age_2', 'Age_3', 'Age_4', 'Age_5', 'Age_6', 'Age_7', 'Age_8', 'Height_0', 'Height_1', 'Height_2', 'Height_3', 'Height_4', 'Height_5', 'Height_6', 'Height_7', 'Height_8', 'Weight_0', 'Weight_1', 'Weight_2', 'Weight_3', 'Weight_4', 'Weight_5', 'Weight_6', 'Weight_7', 'Weight_8', 'NOC_ABW', 'NOC_AFG', 'NOC_AGO', 'NOC_ALB', 'NOC_AND', 'NOC_ARE', 'NOC_ARG', 'NOC_ARM', 'NOC_ASM', 'NOC_ATG', 'NOC_AUS', 'NOC_AUT', 'NOC_AZE', 'NOC_BDI', 'NOC_BEL', 'NOC_BEN', 'NOC_BFA', 'NOC_BGD', 'NOC_BGR', 'NOC_BHR', 'NOC_BHS', 'NOC_BIH', 'NOC_BLR', 'NOC_BLZ', 'NOC_BMU', 'NOC_BOL', 'NOC_BRA', 'NOC_BRB', 'NOC_BRN', 'NOC_BTN', 'NOC_BWA', 'NOC_CAF', 'NOC_CAN', 'NOC_CHE', 'NOC_CHL', 'NOC_CHN', 'NOC_CIV', 'NOC_CMR', 'NOC_COD', 'NOC_COG', 'NOC_COL', 'NOC_COM', 'NOC_CPV', 'NOC_CRI', 'NOC_CUB', 'NOC_CYM', 'NOC_CYP', 'NOC_CZE', 'NOC_DEU', 'NOC_DJI', 'NOC_DMA', 'NOC_DNK', 'NOC_DOM', 'NOC_DZA', 'NOC_ECU', 'NOC_EGY', 'NOC_ERI', 'NOC_ESP', 'NOC_EST', 'NOC_ETH', 'NOC_EUN', 'NOC_FIN', 'NOC_FJI', 'NOC_FRA', 'NOC_FRG', 'NOC_FSM', 'NOC_GAB', 'NOC_GBR', 'NOC_GDR', 'NOC_GEO', 'NOC_GHA', 'NOC_GIN', 'NOC_GMB', 'NOC_GNB', 'NOC_GNQ', 'NOC_GRC', 'NOC_GRD', 'NOC_GTM', 'NOC_GUM', 'NOC_GUY', 'NOC_HKG', 'NOC_HND', 'NOC_HRV', 'NOC_HTI', 'NOC_HUN', 'NOC_IDN', 'NOC_IND', 'NOC_IOA', 'NOC_IRL', 'NOC_IRN', 'NOC_IRQ', 'NOC_ISL', 'NOC_ISR', 'NOC_ITA', 'NOC_JAM', 'NOC_JOR', 'NOC_JPN', 'NOC_KAZ', 'NOC_KEN', 'NOC_KGZ', 'NOC_KHM', 'NOC_KIR', 'NOC_KNA', 'NOC_KOR', 'NOC_KWT', 'NOC_LAO', 'NOC_LBN', 'NOC_LBR', 'NOC_LBY', 'NOC_LCA', 'NOC_LIE', 'NOC_LKA', 'NOC_LSO', 'NOC_LTU', 'NOC_LUX', 'NOC_LVA', 'NOC_MAR', 'NOC_MCO', 'NOC_MDA', 'NOC_MDG', 'NOC_MDV', 'NOC_MEX', 'NOC_MHL', 'NOC_MKD', 'NOC_MLI', 'NOC_MLT', 'NOC_MMR', 'NOC_MNE', 'NOC_MNG', 'NOC_MOZ', 'NOC_MRT', 'NOC_MUS', 'NOC_MWI', 'NOC_MYS', 'NOC_NAM', 'NOC_NER', 'NOC_NGA', 'NOC_NIC', 'NOC_NLD', 'NOC_NOR', 'NOC_NPL', 'NOC_NRU', 'NOC_NZL', 'NOC_OMN', 'NOC_PAK', 'NOC_PAN', 'NOC_PER', 'NOC_PHL', 'NOC_PLE', 'NOC_PLW', 'NOC_PNG', 'NOC_POL', 'NOC_PRI', 'NOC_PRK', 'NOC_PRT', 'NOC_PRY', 'NOC_QAT', 'NOC_ROT', 'NOC_ROU', 'NOC_RUS', 'NOC_RWA', 'NOC_SAU', 'NOC_SDN', 'NOC_SEN', 'NOC_SGP', 'NOC_SLB', 'NOC_SLE', 'NOC_SLV', 'NOC_SMR', 'NOC_SOM', 'NOC_SRB', 'NOC_SSD', 'NOC_STP', 'NOC_SUR', 'NOC_SVK', 'NOC_SVN', 'NOC_SWE', 'NOC_SWZ', 'NOC_SXM', 'NOC_SYC', 'NOC_SYR', 'NOC_TCD', 'NOC_TGO', 'NOC_THA', 'NOC_TJK', 'NOC_TKM', 'NOC_TLS', 'NOC_TON', 'NOC_TTO', 'NOC_TUN', 'NOC_TUR', 'NOC_TUV', 'NOC_TZA', 'NOC_UAR', 'NOC_UGA', 'NOC_UKR', 'NOC_URS', 'NOC_URY', 'NOC_USA', 'NOC_UZB', 'NOC_VCT', 'NOC_VEN', 'NOC_VGB', 'NOC_VIR', 'NOC_VNM', 'NOC_VUT', 'NOC_WSM', 'NOC_XKX', 'NOC_YEM', 'NOC_ZAF', 'NOC_ZMB', 'NOC_ZWE']\n"
     ]
    }
   ],
   "source": [
    "dummy_col = list(mRegression_empty.columns.values.tolist())\n",
    "print(dummy_col)"
   ]
  },
  {
   "cell_type": "code",
   "execution_count": 11,
   "metadata": {},
   "outputs": [
    {
     "data": {
      "text/plain": [
       "'Age_2'"
      ]
     },
     "execution_count": 11,
     "metadata": {},
     "output_type": "execute_result"
    }
   ],
   "source": [
    "user_age_reg = user_df.at[0, 'Age']\n",
    "user_age_reg"
   ]
  },
  {
   "cell_type": "code",
   "execution_count": 12,
   "metadata": {},
   "outputs": [
    {
     "name": "stdout",
     "output_type": "stream",
     "text": [
      "[0, 0, 0, 1, 0, 0, 0, 0, 0, 0, 0, 0, 0, 0, 0, 1, 0, 0, 0, 0, 0, 1, 0, 0, 0, 0, 0, 0, 0, 0, 0, 0, 0, 0, 0, 0, 0, 0, 0, 0, 0, 0, 0, 0, 0, 0, 0, 0, 0, 0, 0, 0, 0, 0, 0, 0, 0, 0, 0, 0, 0, 0, 0, 0, 0, 0, 0, 0, 0, 0, 0, 0, 0, 0, 0, 0, 0, 0, 0, 0, 0, 0, 0, 0, 0, 0, 0, 0, 0, 0, 0, 0, 0, 0, 0, 0, 0, 0, 0, 0, 0, 0, 0, 0, 0, 0, 0, 0, 0, 0, 0, 0, 0, 0, 0, 0, 0, 0, 0, 0, 0, 0, 0, 0, 0, 0, 0, 0, 0, 0, 0, 0, 0, 0, 0, 0, 0, 0, 0, 0, 0, 0, 0, 0, 0, 0, 0, 0, 0, 0, 0, 0, 0, 0, 0, 0, 0, 0, 0, 0, 0, 0, 0, 0, 0, 0, 0, 0, 0, 0, 0, 0, 0, 0, 0, 0, 0, 0, 0, 0, 0, 0, 0, 0, 0, 0, 0, 0, 0, 0, 0, 0, 0, 0, 0, 0, 0, 0, 0, 0, 0, 0, 0, 0, 0, 0, 0, 0, 0, 0, 0, 0, 0, 0, 0, 0, 0, 0, 0, 0, 0, 0, 0, 0, 1, 0, 0, 0, 0, 0, 0, 0, 0, 0, 0, 0, 0, 0, 0, 0]\n"
     ]
    }
   ],
   "source": [
    "# Create dummies version of user data\n",
    "user_dummies_data = []\n",
    "\n",
    "for col in dummy_col:\n",
    "    if col == user_df.at[0, 'Age']:\n",
    "        user_dummies_data.append(1)\n",
    "    elif col == user_df.at[0, 'Height']:\n",
    "        user_dummies_data.append(1)\n",
    "    elif col == user_df.at[0, 'Weight']:\n",
    "        user_dummies_data.append(1)\n",
    "    elif col == user_df.at[0, 'NOC']:\n",
    "        user_dummies_data.append(1)\n",
    "    else: user_dummies_data.append(0)\n",
    "\n",
    "print(user_dummies_data)\n",
    "            \n",
    "            "
   ]
  },
  {
   "cell_type": "code",
   "execution_count": 13,
   "metadata": {},
   "outputs": [
    {
     "data": {
      "text/html": [
       "<div>\n",
       "<style scoped>\n",
       "    .dataframe tbody tr th:only-of-type {\n",
       "        vertical-align: middle;\n",
       "    }\n",
       "\n",
       "    .dataframe tbody tr th {\n",
       "        vertical-align: top;\n",
       "    }\n",
       "\n",
       "    .dataframe thead th {\n",
       "        text-align: right;\n",
       "    }\n",
       "</style>\n",
       "<table border=\"1\" class=\"dataframe\">\n",
       "  <thead>\n",
       "    <tr style=\"text-align: right;\">\n",
       "      <th></th>\n",
       "      <th>Age_0</th>\n",
       "      <th>Age_1</th>\n",
       "      <th>Age_2</th>\n",
       "      <th>Age_3</th>\n",
       "      <th>Age_4</th>\n",
       "      <th>Age_5</th>\n",
       "      <th>Age_6</th>\n",
       "      <th>Age_7</th>\n",
       "      <th>Age_8</th>\n",
       "      <th>Height_0</th>\n",
       "      <th>...</th>\n",
       "      <th>NOC_VGB</th>\n",
       "      <th>NOC_VIR</th>\n",
       "      <th>NOC_VNM</th>\n",
       "      <th>NOC_VUT</th>\n",
       "      <th>NOC_WSM</th>\n",
       "      <th>NOC_XKX</th>\n",
       "      <th>NOC_YEM</th>\n",
       "      <th>NOC_ZAF</th>\n",
       "      <th>NOC_ZMB</th>\n",
       "      <th>NOC_ZWE</th>\n",
       "    </tr>\n",
       "  </thead>\n",
       "  <tbody>\n",
       "    <tr>\n",
       "      <th>0</th>\n",
       "      <td>0</td>\n",
       "      <td>0</td>\n",
       "      <td>1</td>\n",
       "      <td>0</td>\n",
       "      <td>0</td>\n",
       "      <td>0</td>\n",
       "      <td>0</td>\n",
       "      <td>0</td>\n",
       "      <td>0</td>\n",
       "      <td>0</td>\n",
       "      <td>...</td>\n",
       "      <td>0</td>\n",
       "      <td>0</td>\n",
       "      <td>0</td>\n",
       "      <td>0</td>\n",
       "      <td>0</td>\n",
       "      <td>0</td>\n",
       "      <td>0</td>\n",
       "      <td>0</td>\n",
       "      <td>0</td>\n",
       "      <td>0</td>\n",
       "    </tr>\n",
       "  </tbody>\n",
       "</table>\n",
       "<p>1 rows × 239 columns</p>\n",
       "</div>"
      ],
      "text/plain": [
       "  Age_0 Age_1 Age_2 Age_3 Age_4 Age_5 Age_6 Age_7 Age_8 Height_0  ... NOC_VGB  \\\n",
       "0     0     0     1     0     0     0     0     0     0        0  ...       0   \n",
       "\n",
       "  NOC_VIR NOC_VNM NOC_VUT NOC_WSM NOC_XKX NOC_YEM NOC_ZAF NOC_ZMB NOC_ZWE  \n",
       "0       0       0       0       0       0       0       0       0       0  \n",
       "\n",
       "[1 rows x 239 columns]"
      ]
     },
     "execution_count": 13,
     "metadata": {},
     "output_type": "execute_result"
    }
   ],
   "source": [
    "# Create new Dataframe\n",
    "user_df_reg = mRegression_empty.append(pd.Series(user_dummies_data, index=dummy_col), ignore_index=True)\n",
    "user_df_reg = user_df_reg.drop(['Unnamed: 0'], axis=1)\n",
    "\n",
    "user_df_reg"
   ]
  },
  {
   "cell_type": "code",
   "execution_count": 14,
   "metadata": {},
   "outputs": [],
   "source": [
    "msports = []\n",
    "user_pred_list = []"
   ]
  },
  {
   "cell_type": "code",
   "execution_count": 15,
   "metadata": {},
   "outputs": [
    {
     "name": "stdout",
     "output_type": "stream",
     "text": [
      "[0.6566572]\n"
     ]
    }
   ],
   "source": [
    "mBasketball_user_pred = mBasketball_clf.predict_proba(user_df_reg)\n",
    "mBasketball_user_pred = mBasketball_user_pred[:,1]\n",
    "print(mBasketball_user_pred)\n",
    "msports.append('Basketball')\n",
    "user_pred_list.append(mBasketball_user_pred)"
   ]
  },
  {
   "cell_type": "code",
   "execution_count": 16,
   "metadata": {},
   "outputs": [
    {
     "name": "stdout",
     "output_type": "stream",
     "text": [
      "[0.2335297]\n"
     ]
    }
   ],
   "source": [
    "mJudo_user_pred = mJudo_clf.predict_proba(user_df_reg)\n",
    "mJudo_user_pred = mJudo_user_pred[:,1]\n",
    "print(mJudo_user_pred)\n",
    "msports.append('Judo')\n",
    "user_pred_list.append(mJudo_user_pred)"
   ]
  },
  {
   "cell_type": "code",
   "execution_count": 17,
   "metadata": {},
   "outputs": [
    {
     "name": "stdout",
     "output_type": "stream",
     "text": [
      "[0.00138875]\n"
     ]
    }
   ],
   "source": [
    "mBadminton_user_pred = mBadminton_clf.predict_proba(user_df_reg)\n",
    "mBadminton_user_pred = mBadminton_user_pred[:,1]\n",
    "print(mBadminton_user_pred)\n",
    "msports.append('Badminton')\n",
    "user_pred_list.append(mBadminton_user_pred)"
   ]
  },
  {
   "cell_type": "code",
   "execution_count": 18,
   "metadata": {},
   "outputs": [
    {
     "name": "stdout",
     "output_type": "stream",
     "text": [
      "[0.50762629]\n"
     ]
    }
   ],
   "source": [
    "mAthletics_user_pred = mAthletics_clf.predict_proba(user_df_reg)\n",
    "mAthletics_user_pred = mAthletics_user_pred[:,1]\n",
    "print(mAthletics_user_pred)\n",
    "msports.append('Athletics')\n",
    "user_pred_list.append(mAthletics_user_pred)"
   ]
  },
  {
   "cell_type": "code",
   "execution_count": 19,
   "metadata": {},
   "outputs": [
    {
     "name": "stdout",
     "output_type": "stream",
     "text": [
      "[0.02696568]\n"
     ]
    }
   ],
   "source": [
    "mWeightlifting_user_pred = mWeightlifting_clf.predict_proba(user_df_reg)\n",
    "mWeightlifting_user_pred = mWeightlifting_user_pred[:,1]\n",
    "print(mWeightlifting_user_pred)\n",
    "msports.append('Weightlifting')\n",
    "user_pred_list.append(mWeightlifting_user_pred)"
   ]
  },
  {
   "cell_type": "code",
   "execution_count": 20,
   "metadata": {},
   "outputs": [
    {
     "name": "stdout",
     "output_type": "stream",
     "text": [
      "[0.25712382]\n"
     ]
    }
   ],
   "source": [
    "mWrestling_user_pred = mWrestling_clf.predict_proba(user_df_reg)\n",
    "mWrestling_user_pred = mWrestling_user_pred[:,1]\n",
    "print(mWrestling_user_pred)\n",
    "msports.append('Wrestling')\n",
    "user_pred_list.append(mWrestling_user_pred)"
   ]
  },
  {
   "cell_type": "code",
   "execution_count": 21,
   "metadata": {},
   "outputs": [
    {
     "name": "stdout",
     "output_type": "stream",
     "text": [
      "[0.80187798]\n"
     ]
    }
   ],
   "source": [
    "mRowing_user_pred = mRowing_clf.predict_proba(user_df_reg)\n",
    "mRowing_user_pred = mRowing_user_pred[:,1]\n",
    "print(mRowing_user_pred)\n",
    "msports.append('Rowing')\n",
    "user_pred_list.append(mRowing_user_pred)"
   ]
  },
  {
   "cell_type": "code",
   "execution_count": 22,
   "metadata": {},
   "outputs": [
    {
     "name": "stdout",
     "output_type": "stream",
     "text": [
      "[0.80187798]\n"
     ]
    }
   ],
   "source": [
    "mSwimming_user_pred = mSwimming_clf.predict_proba(user_df_reg)\n",
    "mSwimming_user_pred = mSwimming_user_pred[:,1]\n",
    "print(mSwimming_user_pred)\n",
    "msports.append('Swimming')\n",
    "user_pred_list.append(mSwimming_user_pred)"
   ]
  },
  {
   "cell_type": "code",
   "execution_count": 23,
   "metadata": {},
   "outputs": [
    {
     "name": "stdout",
     "output_type": "stream",
     "text": [
      "[0.29929648]\n"
     ]
    }
   ],
   "source": [
    "mFootball_user_pred = mFootball_clf.predict_proba(user_df_reg)\n",
    "mFootball_user_pred = mFootball_user_pred[:,1]\n",
    "print(mFootball_user_pred)\n",
    "msports.append('Football')\n",
    "user_pred_list.append(mFootball_user_pred)"
   ]
  },
  {
   "cell_type": "code",
   "execution_count": 24,
   "metadata": {},
   "outputs": [
    {
     "name": "stdout",
     "output_type": "stream",
     "text": [
      "[0.36285732]\n"
     ]
    }
   ],
   "source": [
    "mEquestrianism_user_pred = mEquestrianism_clf.predict_proba(user_df_reg)\n",
    "mEquestrianism_user_pred = mEquestrianism_user_pred[:,1]\n",
    "print(mEquestrianism_user_pred)\n",
    "msports.append('Equestrianism')\n",
    "user_pred_list.append(mEquestrianism_user_pred)"
   ]
  },
  {
   "cell_type": "code",
   "execution_count": 25,
   "metadata": {},
   "outputs": [
    {
     "name": "stdout",
     "output_type": "stream",
     "text": [
      "[0.3372487]\n"
     ]
    }
   ],
   "source": [
    "mShooting_user_pred = mShooting_clf.predict_proba(user_df_reg)\n",
    "mShooting_user_pred = mShooting_user_pred[:,1]\n",
    "print(mShooting_user_pred)\n",
    "msports.append('Shooting')\n",
    "user_pred_list.append(mShooting_user_pred)"
   ]
  },
  {
   "cell_type": "code",
   "execution_count": 26,
   "metadata": {},
   "outputs": [
    {
     "name": "stdout",
     "output_type": "stream",
     "text": [
      "[0.00560779]\n"
     ]
    }
   ],
   "source": [
    "mGymnastics_user_pred = mGymnastics_clf.predict_proba(user_df_reg)\n",
    "mGymnastics_user_pred = mGymnastics_user_pred[:,1]\n",
    "print(mGymnastics_user_pred)\n",
    "msports.append('Gymnastics')\n",
    "user_pred_list.append(mGymnastics_user_pred)"
   ]
  },
  {
   "cell_type": "code",
   "execution_count": 27,
   "metadata": {},
   "outputs": [
    {
     "name": "stdout",
     "output_type": "stream",
     "text": [
      "[0.00133289]\n"
     ]
    }
   ],
   "source": [
    "mTaekwondo_user_pred = mTaekwondo_clf.predict_proba(user_df_reg)\n",
    "mTaekwondo_user_pred = mTaekwondo_user_pred[:,1]\n",
    "print(mTaekwondo_user_pred)\n",
    "msports.append('Taekwondo')\n",
    "user_pred_list.append(mTaekwondo_user_pred)"
   ]
  },
  {
   "cell_type": "code",
   "execution_count": 28,
   "metadata": {},
   "outputs": [
    {
     "name": "stdout",
     "output_type": "stream",
     "text": [
      "[0.17803485]\n"
     ]
    }
   ],
   "source": [
    "mBoxing_user_pred = mBoxing_clf.predict_proba(user_df_reg)\n",
    "mBoxing_user_pred = mBoxing_user_pred[:,1]\n",
    "print(mBoxing_user_pred)\n",
    "msports.append('Boxing')\n",
    "user_pred_list.append(mBoxing_user_pred)"
   ]
  },
  {
   "cell_type": "code",
   "execution_count": 29,
   "metadata": {},
   "outputs": [
    {
     "name": "stdout",
     "output_type": "stream",
     "text": [
      "[0.71249298]\n"
     ]
    }
   ],
   "source": [
    "mFencing_user_pred = mFencing_clf.predict_proba(user_df_reg)\n",
    "mFencing_user_pred = mFencing_user_pred[:,1]\n",
    "print(mFencing_user_pred)\n",
    "msports.append('Fencing')\n",
    "user_pred_list.append(mFencing_user_pred)"
   ]
  },
  {
   "cell_type": "code",
   "execution_count": 30,
   "metadata": {},
   "outputs": [
    {
     "name": "stdout",
     "output_type": "stream",
     "text": [
      "[0.07611964]\n"
     ]
    }
   ],
   "source": [
    "mDiving_user_pred = mDiving_clf.predict_proba(user_df_reg)\n",
    "mDiving_user_pred = mDiving_user_pred[:,1]\n",
    "print(mDiving_user_pred)\n",
    "msports.append('Diving')\n",
    "user_pred_list.append(mDiving_user_pred)"
   ]
  },
  {
   "cell_type": "code",
   "execution_count": 31,
   "metadata": {},
   "outputs": [
    {
     "name": "stdout",
     "output_type": "stream",
     "text": [
      "[0.57045081]\n"
     ]
    }
   ],
   "source": [
    "mCanoeing_user_pred = mCanoeing_clf.predict_proba(user_df_reg)\n",
    "mCanoeing_user_pred = mCanoeing_user_pred[:,1]\n",
    "print(mCanoeing_user_pred)\n",
    "msports.append('Canoeing')\n",
    "user_pred_list.append(mCanoeing_user_pred)"
   ]
  },
  {
   "cell_type": "code",
   "execution_count": 32,
   "metadata": {},
   "outputs": [
    {
     "name": "stdout",
     "output_type": "stream",
     "text": [
      "[0.75446625]\n"
     ]
    }
   ],
   "source": [
    "mHandball_user_pred = mHandball_clf.predict_proba(user_df_reg)\n",
    "mHandball_user_pred = mHandball_user_pred[:,1]\n",
    "print(mHandball_user_pred)\n",
    "msports.append('Handball')\n",
    "user_pred_list.append(mHandball_user_pred)"
   ]
  },
  {
   "cell_type": "code",
   "execution_count": 33,
   "metadata": {},
   "outputs": [
    {
     "name": "stdout",
     "output_type": "stream",
     "text": [
      "[0.73807543]\n"
     ]
    }
   ],
   "source": [
    "mWater_Polo_user_pred = mWater_Polo_clf.predict_proba(user_df_reg)\n",
    "mWater_Polo_user_pred = mWater_Polo_user_pred[:,1]\n",
    "print(mWater_Polo_user_pred)\n",
    "msports.append('Water Polo')\n",
    "user_pred_list.append(mWater_Polo_user_pred)"
   ]
  },
  {
   "cell_type": "code",
   "execution_count": 34,
   "metadata": {},
   "outputs": [
    {
     "name": "stdout",
     "output_type": "stream",
     "text": [
      "[0.38598913]\n"
     ]
    }
   ],
   "source": [
    "mTennis_user_pred = mTennis_clf.predict_proba(user_df_reg)\n",
    "mTennis_user_pred = mTennis_user_pred[:,1]\n",
    "print(mTennis_user_pred)\n",
    "msports.append('Tennis')\n",
    "user_pred_list.append(mTennis_user_pred)"
   ]
  },
  {
   "cell_type": "code",
   "execution_count": 35,
   "metadata": {},
   "outputs": [
    {
     "name": "stdout",
     "output_type": "stream",
     "text": [
      "[0.31262334]\n"
     ]
    }
   ],
   "source": [
    "mCycling_user_pred = mCycling_clf.predict_proba(user_df_reg)\n",
    "mCycling_user_pred = mCycling_user_pred[:,1]\n",
    "print(mCycling_user_pred)\n",
    "msports.append('Cycling')\n",
    "user_pred_list.append(mCycling_user_pred)"
   ]
  },
  {
   "cell_type": "code",
   "execution_count": 36,
   "metadata": {},
   "outputs": [
    {
     "name": "stdout",
     "output_type": "stream",
     "text": [
      "[0.2554795]\n"
     ]
    }
   ],
   "source": [
    "mHockey_user_pred = mHockey_clf.predict_proba(user_df_reg)\n",
    "mHockey_user_pred = mHockey_user_pred[:,1]\n",
    "print(mHockey_user_pred)\n",
    "msports.append('Hockey')\n",
    "user_pred_list.append(mHockey_user_pred)"
   ]
  },
  {
   "cell_type": "code",
   "execution_count": 37,
   "metadata": {},
   "outputs": [
    {
     "name": "stdout",
     "output_type": "stream",
     "text": [
      "[0.2554795]\n"
     ]
    }
   ],
   "source": [
    "mArchery_user_pred = mArchery_clf.predict_proba(user_df_reg)\n",
    "mArchery_user_pred = mArchery_user_pred[:,1]\n",
    "print(mArchery_user_pred)\n",
    "msports.append('Archery')\n",
    "user_pred_list.append(mArchery_user_pred)"
   ]
  },
  {
   "cell_type": "code",
   "execution_count": 38,
   "metadata": {},
   "outputs": [
    {
     "name": "stdout",
     "output_type": "stream",
     "text": [
      "[0.79373649]\n"
     ]
    }
   ],
   "source": [
    "mVolleyball_user_pred = mVolleyball_clf.predict_proba(user_df_reg)\n",
    "mVolleyball_user_pred = mVolleyball_user_pred[:,1]\n",
    "print(mVolleyball_user_pred)\n",
    "msports.append('Volleyball')\n",
    "user_pred_list.append(mVolleyball_user_pred)"
   ]
  },
  {
   "cell_type": "code",
   "execution_count": 39,
   "metadata": {},
   "outputs": [
    {
     "name": "stdout",
     "output_type": "stream",
     "text": [
      "[0.59621505]\n"
     ]
    }
   ],
   "source": [
    "mModern_Pentathlon_user_pred = mModern_Pentathlon_clf.predict_proba(user_df_reg)\n",
    "mModern_Pentathlon_user_pred = mModern_Pentathlon_user_pred[:,1]\n",
    "print(mModern_Pentathlon_user_pred)\n",
    "msports.append('Modern Pentathlon')\n",
    "user_pred_list.append(mModern_Pentathlon_user_pred)"
   ]
  },
  {
   "cell_type": "code",
   "execution_count": 40,
   "metadata": {},
   "outputs": [
    {
     "name": "stdout",
     "output_type": "stream",
     "text": [
      "[0.08427412]\n"
     ]
    }
   ],
   "source": [
    "mTable_Tennis_user_pred = mTable_Tennis_clf.predict_proba(user_df_reg)\n",
    "mTable_Tennis_user_pred = mTable_Tennis_user_pred[:,1]\n",
    "print(mTable_Tennis_user_pred)\n",
    "msports.append('Table Tennis')\n",
    "user_pred_list.append(mTable_Tennis_user_pred)"
   ]
  },
  {
   "cell_type": "code",
   "execution_count": 41,
   "metadata": {},
   "outputs": [
    {
     "name": "stdout",
     "output_type": "stream",
     "text": [
      "[0.00094963]\n"
     ]
    }
   ],
   "source": [
    "mBaseball_user_pred = mBaseball_clf.predict_proba(user_df_reg)\n",
    "mBaseball_user_pred = mBaseball_user_pred[:,1]\n",
    "print(mBaseball_user_pred)\n",
    "msports.append('Baseball')\n",
    "user_pred_list.append(mBaseball_user_pred)"
   ]
  },
  {
   "cell_type": "code",
   "execution_count": 42,
   "metadata": {},
   "outputs": [
    {
     "name": "stdout",
     "output_type": "stream",
     "text": [
      "[0.00043796]\n"
     ]
    }
   ],
   "source": [
    "mRugby_Sevens_user_pred = mRugby_Sevens_clf.predict_proba(user_df_reg)\n",
    "mRugby_Sevens_user_pred = mRugby_Sevens_user_pred[:,1]\n",
    "print(mRugby_Sevens_user_pred)\n",
    "msports.append('Rugby Sevens')\n",
    "user_pred_list.append(mRugby_Sevens_user_pred)"
   ]
  },
  {
   "cell_type": "code",
   "execution_count": 43,
   "metadata": {},
   "outputs": [
    {
     "name": "stdout",
     "output_type": "stream",
     "text": [
      "[1.38286298e-05]\n"
     ]
    }
   ],
   "source": [
    "mTrampolining_user_pred = mTrampolining_clf.predict_proba(user_df_reg)\n",
    "mTrampolining_user_pred = mTrampolining_user_pred[:,1]\n",
    "print(mTrampolining_user_pred)\n",
    "msports.append('Trampolining')\n",
    "user_pred_list.append(mTrampolining_user_pred)"
   ]
  },
  {
   "cell_type": "code",
   "execution_count": 44,
   "metadata": {},
   "outputs": [
    {
     "name": "stdout",
     "output_type": "stream",
     "text": [
      "[0.00343118]\n"
     ]
    }
   ],
   "source": [
    "mBeach_Volleyball_user_pred = mBeach_Volleyball_clf.predict_proba(user_df_reg)\n",
    "mBeach_Volleyball_user_pred = mBeach_Volleyball_user_pred[:,1]\n",
    "print(mBeach_Volleyball_user_pred)\n",
    "msports.append('Beach Volleyball')\n",
    "user_pred_list.append(mBeach_Volleyball_user_pred)"
   ]
  },
  {
   "cell_type": "code",
   "execution_count": 45,
   "metadata": {},
   "outputs": [
    {
     "name": "stdout",
     "output_type": "stream",
     "text": [
      "[0.00035686]\n"
     ]
    }
   ],
   "source": [
    "mTriathlon_user_pred = mTriathlon_clf.predict_proba(user_df_reg)\n",
    "mTriathlon_user_pred = mTriathlon_user_pred[:,1]\n",
    "print(mTriathlon_user_pred)\n",
    "msports.append('Triathlon')\n",
    "user_pred_list.append(mTriathlon_user_pred)"
   ]
  },
  {
   "cell_type": "code",
   "execution_count": 46,
   "metadata": {},
   "outputs": [
    {
     "name": "stdout",
     "output_type": "stream",
     "text": [
      "[0.00193947]\n"
     ]
    }
   ],
   "source": [
    "mGolf_user_pred = mGolf_clf.predict_proba(user_df_reg)\n",
    "mGolf_user_pred = mGolf_user_pred[:,1]\n",
    "print(mGolf_user_pred)\n",
    "msports.append('Golf')\n",
    "user_pred_list.append(mGolf_user_pred)"
   ]
  },
  {
   "cell_type": "code",
   "execution_count": 47,
   "metadata": {},
   "outputs": [
    {
     "name": "stdout",
     "output_type": "stream",
     "text": [
      "Rowing\n"
     ]
    }
   ],
   "source": [
    "user_max = max(user_pred_list)\n",
    "user_max_pos = user_pred_list.index(user_max)\n",
    "user_max_sport = msports[user_max_pos]\n",
    "print(user_max_sport)"
   ]
  },
  {
   "cell_type": "code",
   "execution_count": 48,
   "metadata": {},
   "outputs": [
    {
     "name": "stdout",
     "output_type": "stream",
     "text": [
      "Trampolining\n"
     ]
    }
   ],
   "source": [
    "user_min = min(user_pred_list)\n",
    "user_min_pos = user_pred_list.index(user_min)\n",
    "user_min_sport = msports[user_min_pos]\n",
    "print(user_min_sport)"
   ]
  },
  {
   "cell_type": "markdown",
   "metadata": {},
   "source": [
    "### User Women's Sports Predictor"
   ]
  },
  {
   "cell_type": "code",
   "execution_count": 49,
   "metadata": {},
   "outputs": [
    {
     "data": {
      "text/html": [
       "<div>\n",
       "<style scoped>\n",
       "    .dataframe tbody tr th:only-of-type {\n",
       "        vertical-align: middle;\n",
       "    }\n",
       "\n",
       "    .dataframe tbody tr th {\n",
       "        vertical-align: top;\n",
       "    }\n",
       "\n",
       "    .dataframe thead th {\n",
       "        text-align: right;\n",
       "    }\n",
       "</style>\n",
       "<table border=\"1\" class=\"dataframe\">\n",
       "  <thead>\n",
       "    <tr style=\"text-align: right;\">\n",
       "      <th></th>\n",
       "      <th>Age</th>\n",
       "      <th>Height</th>\n",
       "      <th>Weight</th>\n",
       "      <th>NOC</th>\n",
       "    </tr>\n",
       "  </thead>\n",
       "  <tbody>\n",
       "    <tr>\n",
       "      <th>0</th>\n",
       "      <td>30</td>\n",
       "      <td>185</td>\n",
       "      <td>77</td>\n",
       "      <td>URS</td>\n",
       "    </tr>\n",
       "  </tbody>\n",
       "</table>\n",
       "</div>"
      ],
      "text/plain": [
       "   Age  Height  Weight  NOC\n",
       "0   30     185      77  URS"
      ]
     },
     "execution_count": 49,
     "metadata": {},
     "output_type": "execute_result"
    }
   ],
   "source": [
    "# Turn user input into dataframe\n",
    "\n",
    "user_df = pd.DataFrame(\n",
    "    {\n",
    "     \"Age\": [user_Age],\n",
    "     \"Height\": [user_Height],\n",
    "     \"Weight\": [user_Weight],\n",
    "     \"NOC\": [user_NOC]\n",
    "     }\n",
    ")\n",
    "\n",
    "user_df"
   ]
  },
  {
   "cell_type": "code",
   "execution_count": 50,
   "metadata": {},
   "outputs": [],
   "source": [
    "user_df['Age'] = user_df['Age'].astype(float, errors = 'raise')\n",
    "user_df['Height'] = user_df['Height'].astype(float, errors = 'raise')\n",
    "user_df['Weight'] = user_df['Weight'].astype(float, errors = 'raise')"
   ]
  },
  {
   "cell_type": "code",
   "execution_count": 51,
   "metadata": {},
   "outputs": [
    {
     "data": {
      "text/html": [
       "<div>\n",
       "<style scoped>\n",
       "    .dataframe tbody tr th:only-of-type {\n",
       "        vertical-align: middle;\n",
       "    }\n",
       "\n",
       "    .dataframe tbody tr th {\n",
       "        vertical-align: top;\n",
       "    }\n",
       "\n",
       "    .dataframe thead th {\n",
       "        text-align: right;\n",
       "    }\n",
       "</style>\n",
       "<table border=\"1\" class=\"dataframe\">\n",
       "  <thead>\n",
       "    <tr style=\"text-align: right;\">\n",
       "      <th></th>\n",
       "      <th>Age</th>\n",
       "      <th>Height</th>\n",
       "      <th>Weight</th>\n",
       "      <th>NOC</th>\n",
       "    </tr>\n",
       "  </thead>\n",
       "  <tbody>\n",
       "    <tr>\n",
       "      <th>0</th>\n",
       "      <td>2</td>\n",
       "      <td>6</td>\n",
       "      <td>3</td>\n",
       "      <td>NOC_URS</td>\n",
       "    </tr>\n",
       "  </tbody>\n",
       "</table>\n",
       "</div>"
      ],
      "text/plain": [
       "  Age Height Weight      NOC\n",
       "0   2      6      3  NOC_URS"
      ]
     },
     "execution_count": 51,
     "metadata": {},
     "output_type": "execute_result"
    }
   ],
   "source": [
    "# bin user info\n",
    "user_df[\"Age\"] = pd.cut(user_df[\"Age\"], fAge_bins, labels=bin_names)\n",
    "user_df[\"Height\"] = pd.cut(user_df[\"Height\"], fHeight_bins, labels=bin_names)\n",
    "user_df[\"Weight\"] = pd.cut(user_df[\"Weight\"], fWeight_bins, labels=bin_names)\n",
    "user_df[\"NOC\"] = 'NOC_' + user_df[\"NOC\"].astype(str)\n",
    "\n",
    "user_df"
   ]
  },
  {
   "cell_type": "code",
   "execution_count": 52,
   "metadata": {},
   "outputs": [
    {
     "data": {
      "text/html": [
       "<div>\n",
       "<style scoped>\n",
       "    .dataframe tbody tr th:only-of-type {\n",
       "        vertical-align: middle;\n",
       "    }\n",
       "\n",
       "    .dataframe tbody tr th {\n",
       "        vertical-align: top;\n",
       "    }\n",
       "\n",
       "    .dataframe thead th {\n",
       "        text-align: right;\n",
       "    }\n",
       "</style>\n",
       "<table border=\"1\" class=\"dataframe\">\n",
       "  <thead>\n",
       "    <tr style=\"text-align: right;\">\n",
       "      <th></th>\n",
       "      <th>Age</th>\n",
       "      <th>Height</th>\n",
       "      <th>Weight</th>\n",
       "      <th>NOC</th>\n",
       "    </tr>\n",
       "  </thead>\n",
       "  <tbody>\n",
       "    <tr>\n",
       "      <th>0</th>\n",
       "      <td>Age_2</td>\n",
       "      <td>Height_6</td>\n",
       "      <td>Weight_3</td>\n",
       "      <td>NOC_URS</td>\n",
       "    </tr>\n",
       "  </tbody>\n",
       "</table>\n",
       "</div>"
      ],
      "text/plain": [
       "     Age    Height    Weight      NOC\n",
       "0  Age_2  Height_6  Weight_3  NOC_URS"
      ]
     },
     "execution_count": 52,
     "metadata": {},
     "output_type": "execute_result"
    }
   ],
   "source": [
    "# Edit values to match columns in regression dataframes\n",
    "user_df[\"Age\"] = 'Age_' + user_df[\"Age\"].astype(str)\n",
    "user_df[\"Height\"] = 'Height_' + user_df[\"Height\"].astype(str)\n",
    "user_df[\"Weight\"] = 'Weight_' + user_df[\"Weight\"].astype(str)\n",
    "\n",
    "user_df"
   ]
  },
  {
   "cell_type": "code",
   "execution_count": 53,
   "metadata": {
    "scrolled": false
   },
   "outputs": [
    {
     "name": "stdout",
     "output_type": "stream",
     "text": [
      "['Unnamed: 0', 'Age_0', 'Age_1', 'Age_2', 'Age_3', 'Age_4', 'Age_5', 'Age_6', 'Age_7', 'Age_8', 'Height_0', 'Height_1', 'Height_2', 'Height_3', 'Height_4', 'Height_5', 'Height_6', 'Height_7', 'Height_8', 'Weight_0', 'Weight_1', 'Weight_2', 'Weight_3', 'Weight_4', 'Weight_5', 'Weight_6', 'Weight_7', 'Weight_8', 'NOC_ABW', 'NOC_AFG', 'NOC_AGO', 'NOC_ALB', 'NOC_AND', 'NOC_ARE', 'NOC_ARG', 'NOC_ARM', 'NOC_ASM', 'NOC_ATG', 'NOC_AUS', 'NOC_AUT', 'NOC_AZE', 'NOC_BDI', 'NOC_BEL', 'NOC_BEN', 'NOC_BFA', 'NOC_BGD', 'NOC_BGR', 'NOC_BHR', 'NOC_BHS', 'NOC_BIH', 'NOC_BLR', 'NOC_BLZ', 'NOC_BMU', 'NOC_BOL', 'NOC_BRA', 'NOC_BRB', 'NOC_BRN', 'NOC_BTN', 'NOC_BWA', 'NOC_CAF', 'NOC_CAN', 'NOC_CHE', 'NOC_CHL', 'NOC_CHN', 'NOC_CIV', 'NOC_CMR', 'NOC_COD', 'NOC_COG', 'NOC_COL', 'NOC_COM', 'NOC_CPV', 'NOC_CRI', 'NOC_CUB', 'NOC_CYM', 'NOC_CYP', 'NOC_CZE', 'NOC_DEU', 'NOC_DJI', 'NOC_DMA', 'NOC_DNK', 'NOC_DOM', 'NOC_DZA', 'NOC_ECU', 'NOC_EGY', 'NOC_ERI', 'NOC_ESP', 'NOC_EST', 'NOC_ETH', 'NOC_EUN', 'NOC_FIN', 'NOC_FJI', 'NOC_FRA', 'NOC_FRG', 'NOC_FSM', 'NOC_GAB', 'NOC_GBR', 'NOC_GDR', 'NOC_GEO', 'NOC_GHA', 'NOC_GIN', 'NOC_GMB', 'NOC_GNB', 'NOC_GNQ', 'NOC_GRC', 'NOC_GRD', 'NOC_GTM', 'NOC_GUM', 'NOC_GUY', 'NOC_HKG', 'NOC_HND', 'NOC_HRV', 'NOC_HTI', 'NOC_HUN', 'NOC_IDN', 'NOC_IND', 'NOC_IOA', 'NOC_IRL', 'NOC_IRN', 'NOC_IRQ', 'NOC_ISL', 'NOC_ISR', 'NOC_ITA', 'NOC_JAM', 'NOC_JOR', 'NOC_JPN', 'NOC_KAZ', 'NOC_KEN', 'NOC_KGZ', 'NOC_KHM', 'NOC_KIR', 'NOC_KNA', 'NOC_KOR', 'NOC_KWT', 'NOC_LAO', 'NOC_LBN', 'NOC_LBR', 'NOC_LBY', 'NOC_LCA', 'NOC_LIE', 'NOC_LKA', 'NOC_LSO', 'NOC_LTU', 'NOC_LUX', 'NOC_LVA', 'NOC_MAR', 'NOC_MCO', 'NOC_MDA', 'NOC_MDG', 'NOC_MDV', 'NOC_MEX', 'NOC_MHL', 'NOC_MKD', 'NOC_MLI', 'NOC_MLT', 'NOC_MMR', 'NOC_MNE', 'NOC_MNG', 'NOC_MOZ', 'NOC_MRT', 'NOC_MUS', 'NOC_MWI', 'NOC_MYS', 'NOC_NAM', 'NOC_NER', 'NOC_NGA', 'NOC_NIC', 'NOC_NLD', 'NOC_NOR', 'NOC_NPL', 'NOC_NRU', 'NOC_NZL', 'NOC_OMN', 'NOC_PAK', 'NOC_PAN', 'NOC_PER', 'NOC_PHL', 'NOC_PLE', 'NOC_PLW', 'NOC_PNG', 'NOC_POL', 'NOC_PRI', 'NOC_PRK', 'NOC_PRT', 'NOC_PRY', 'NOC_QAT', 'NOC_ROT', 'NOC_ROU', 'NOC_RUS', 'NOC_RWA', 'NOC_SAU', 'NOC_SDN', 'NOC_SEN', 'NOC_SGP', 'NOC_SLB', 'NOC_SLE', 'NOC_SLV', 'NOC_SMR', 'NOC_SOM', 'NOC_SRB', 'NOC_SSD', 'NOC_STP', 'NOC_SUR', 'NOC_SVK', 'NOC_SVN', 'NOC_SWE', 'NOC_SWZ', 'NOC_SXM', 'NOC_SYC', 'NOC_SYR', 'NOC_TCD', 'NOC_TGO', 'NOC_THA', 'NOC_TJK', 'NOC_TKM', 'NOC_TLS', 'NOC_TON', 'NOC_TTO', 'NOC_TUN', 'NOC_TUR', 'NOC_TZA', 'NOC_UGA', 'NOC_UKR', 'NOC_URS', 'NOC_URY', 'NOC_USA', 'NOC_UZB', 'NOC_VCT', 'NOC_VEN', 'NOC_VGB', 'NOC_VIR', 'NOC_VNM', 'NOC_VUT', 'NOC_WSM', 'NOC_XKX', 'NOC_YEM', 'NOC_ZAF', 'NOC_ZMB', 'NOC_ZWE']\n"
     ]
    }
   ],
   "source": [
    "dummy_col = list(fRegression_empty.columns.values.tolist())\n",
    "print(dummy_col)"
   ]
  },
  {
   "cell_type": "code",
   "execution_count": 54,
   "metadata": {},
   "outputs": [
    {
     "data": {
      "text/plain": [
       "'Age_2'"
      ]
     },
     "execution_count": 54,
     "metadata": {},
     "output_type": "execute_result"
    }
   ],
   "source": [
    "user_age_reg = user_df.at[0, 'Age']\n",
    "user_age_reg"
   ]
  },
  {
   "cell_type": "code",
   "execution_count": 55,
   "metadata": {},
   "outputs": [
    {
     "name": "stdout",
     "output_type": "stream",
     "text": [
      "[0, 0, 0, 1, 0, 0, 0, 0, 0, 0, 0, 0, 0, 0, 0, 0, 1, 0, 0, 0, 0, 0, 1, 0, 0, 0, 0, 0, 0, 0, 0, 0, 0, 0, 0, 0, 0, 0, 0, 0, 0, 0, 0, 0, 0, 0, 0, 0, 0, 0, 0, 0, 0, 0, 0, 0, 0, 0, 0, 0, 0, 0, 0, 0, 0, 0, 0, 0, 0, 0, 0, 0, 0, 0, 0, 0, 0, 0, 0, 0, 0, 0, 0, 0, 0, 0, 0, 0, 0, 0, 0, 0, 0, 0, 0, 0, 0, 0, 0, 0, 0, 0, 0, 0, 0, 0, 0, 0, 0, 0, 0, 0, 0, 0, 0, 0, 0, 0, 0, 0, 0, 0, 0, 0, 0, 0, 0, 0, 0, 0, 0, 0, 0, 0, 0, 0, 0, 0, 0, 0, 0, 0, 0, 0, 0, 0, 0, 0, 0, 0, 0, 0, 0, 0, 0, 0, 0, 0, 0, 0, 0, 0, 0, 0, 0, 0, 0, 0, 0, 0, 0, 0, 0, 0, 0, 0, 0, 0, 0, 0, 0, 0, 0, 0, 0, 0, 0, 0, 0, 0, 0, 0, 0, 0, 0, 0, 0, 0, 0, 0, 0, 0, 0, 0, 0, 0, 0, 0, 0, 0, 0, 0, 0, 0, 0, 0, 0, 0, 0, 0, 0, 0, 1, 0, 0, 0, 0, 0, 0, 0, 0, 0, 0, 0, 0, 0, 0, 0]\n"
     ]
    }
   ],
   "source": [
    "# Create dummies version of user data\n",
    "user_dummies_data = []\n",
    "\n",
    "for col in dummy_col:\n",
    "    if col == user_df.at[0, 'Age']:\n",
    "        user_dummies_data.append(1)\n",
    "    elif col == user_df.at[0, 'Height']:\n",
    "        user_dummies_data.append(1)\n",
    "    elif col == user_df.at[0, 'Weight']:\n",
    "        user_dummies_data.append(1)\n",
    "    elif col == user_df.at[0, 'NOC']:\n",
    "        user_dummies_data.append(1)\n",
    "    else: user_dummies_data.append(0)\n",
    "\n",
    "print(user_dummies_data)"
   ]
  },
  {
   "cell_type": "code",
   "execution_count": 56,
   "metadata": {},
   "outputs": [
    {
     "data": {
      "text/html": [
       "<div>\n",
       "<style scoped>\n",
       "    .dataframe tbody tr th:only-of-type {\n",
       "        vertical-align: middle;\n",
       "    }\n",
       "\n",
       "    .dataframe tbody tr th {\n",
       "        vertical-align: top;\n",
       "    }\n",
       "\n",
       "    .dataframe thead th {\n",
       "        text-align: right;\n",
       "    }\n",
       "</style>\n",
       "<table border=\"1\" class=\"dataframe\">\n",
       "  <thead>\n",
       "    <tr style=\"text-align: right;\">\n",
       "      <th></th>\n",
       "      <th>Age_0</th>\n",
       "      <th>Age_1</th>\n",
       "      <th>Age_2</th>\n",
       "      <th>Age_3</th>\n",
       "      <th>Age_4</th>\n",
       "      <th>Age_5</th>\n",
       "      <th>Age_6</th>\n",
       "      <th>Age_7</th>\n",
       "      <th>Age_8</th>\n",
       "      <th>Height_0</th>\n",
       "      <th>...</th>\n",
       "      <th>NOC_VGB</th>\n",
       "      <th>NOC_VIR</th>\n",
       "      <th>NOC_VNM</th>\n",
       "      <th>NOC_VUT</th>\n",
       "      <th>NOC_WSM</th>\n",
       "      <th>NOC_XKX</th>\n",
       "      <th>NOC_YEM</th>\n",
       "      <th>NOC_ZAF</th>\n",
       "      <th>NOC_ZMB</th>\n",
       "      <th>NOC_ZWE</th>\n",
       "    </tr>\n",
       "  </thead>\n",
       "  <tbody>\n",
       "    <tr>\n",
       "      <th>0</th>\n",
       "      <td>0</td>\n",
       "      <td>0</td>\n",
       "      <td>1</td>\n",
       "      <td>0</td>\n",
       "      <td>0</td>\n",
       "      <td>0</td>\n",
       "      <td>0</td>\n",
       "      <td>0</td>\n",
       "      <td>0</td>\n",
       "      <td>0</td>\n",
       "      <td>...</td>\n",
       "      <td>0</td>\n",
       "      <td>0</td>\n",
       "      <td>0</td>\n",
       "      <td>0</td>\n",
       "      <td>0</td>\n",
       "      <td>0</td>\n",
       "      <td>0</td>\n",
       "      <td>0</td>\n",
       "      <td>0</td>\n",
       "      <td>0</td>\n",
       "    </tr>\n",
       "  </tbody>\n",
       "</table>\n",
       "<p>1 rows × 237 columns</p>\n",
       "</div>"
      ],
      "text/plain": [
       "  Age_0 Age_1 Age_2 Age_3 Age_4 Age_5 Age_6 Age_7 Age_8 Height_0  ... NOC_VGB  \\\n",
       "0     0     0     1     0     0     0     0     0     0        0  ...       0   \n",
       "\n",
       "  NOC_VIR NOC_VNM NOC_VUT NOC_WSM NOC_XKX NOC_YEM NOC_ZAF NOC_ZMB NOC_ZWE  \n",
       "0       0       0       0       0       0       0       0       0       0  \n",
       "\n",
       "[1 rows x 237 columns]"
      ]
     },
     "execution_count": 56,
     "metadata": {},
     "output_type": "execute_result"
    }
   ],
   "source": [
    "# Create new Dataframe\n",
    "user_df_reg = fRegression_empty.append(pd.Series(user_dummies_data, index=dummy_col), ignore_index=True)\n",
    "user_df_reg = user_df_reg.drop(['Unnamed: 0'], axis=1)\n",
    "\n",
    "user_df_reg"
   ]
  },
  {
   "cell_type": "code",
   "execution_count": 57,
   "metadata": {},
   "outputs": [],
   "source": [
    "fsports = []\n",
    "user_pred_list = []"
   ]
  },
  {
   "cell_type": "code",
   "execution_count": 58,
   "metadata": {
    "scrolled": false
   },
   "outputs": [
    {
     "name": "stdout",
     "output_type": "stream",
     "text": [
      "[0.96952548]\n"
     ]
    }
   ],
   "source": [
    "fBasketball_user_pred = fBasketball_clf.predict_proba(user_df_reg)\n",
    "fBasketball_user_pred = fBasketball_user_pred[:,1]\n",
    "print(fBasketball_user_pred)\n",
    "fsports.append('Basketball')\n",
    "user_pred_list.append(fBasketball_user_pred)"
   ]
  },
  {
   "cell_type": "code",
   "execution_count": 59,
   "metadata": {},
   "outputs": [
    {
     "name": "stdout",
     "output_type": "stream",
     "text": [
      "[0.00042226]\n"
     ]
    }
   ],
   "source": [
    "fJudo_user_pred = fJudo_clf.predict_proba(user_df_reg)\n",
    "fJudo_user_pred = fJudo_user_pred[:,1]\n",
    "print(fJudo_user_pred)\n",
    "fsports.append('Judo')\n",
    "user_pred_list.append(fJudo_user_pred)"
   ]
  },
  {
   "cell_type": "code",
   "execution_count": 60,
   "metadata": {},
   "outputs": [
    {
     "name": "stdout",
     "output_type": "stream",
     "text": [
      "[3.34483356e-06]\n"
     ]
    }
   ],
   "source": [
    "fBadminton_user_pred = fBadminton_clf.predict_proba(user_df_reg)\n",
    "fBadminton_user_pred = fBadminton_user_pred[:,1]\n",
    "print(fBadminton_user_pred)\n",
    "fsports.append('Badminton')\n",
    "user_pred_list.append(fBadminton_user_pred)"
   ]
  },
  {
   "cell_type": "code",
   "execution_count": 61,
   "metadata": {},
   "outputs": [
    {
     "name": "stdout",
     "output_type": "stream",
     "text": [
      "[0.38902829]\n"
     ]
    }
   ],
   "source": [
    "fAthletics_user_pred = fAthletics_clf.predict_proba(user_df_reg)\n",
    "fAthletics_user_pred = fAthletics_user_pred[:,1]\n",
    "print(fAthletics_user_pred)\n",
    "fsports.append('Athletics')\n",
    "user_pred_list.append(fAthletics_user_pred)"
   ]
  },
  {
   "cell_type": "code",
   "execution_count": 62,
   "metadata": {},
   "outputs": [
    {
     "name": "stdout",
     "output_type": "stream",
     "text": [
      "[0.00015012]\n"
     ]
    }
   ],
   "source": [
    "fWeightlifting_user_pred = fWeightlifting_clf.predict_proba(user_df_reg)\n",
    "fWeightlifting_user_pred = fWeightlifting_user_pred[:,1]\n",
    "print(fWeightlifting_user_pred)\n",
    "fsports.append('Weightlifting')\n",
    "user_pred_list.append(fWeightlifting_user_pred)"
   ]
  },
  {
   "cell_type": "code",
   "execution_count": 63,
   "metadata": {},
   "outputs": [
    {
     "name": "stdout",
     "output_type": "stream",
     "text": [
      "[2.69572838e-06]\n"
     ]
    }
   ],
   "source": [
    "fWrestling_user_pred = fWrestling_clf.predict_proba(user_df_reg)\n",
    "fWrestling_user_pred = fWrestling_user_pred[:,1]\n",
    "print(fWrestling_user_pred)\n",
    "fsports.append('Wrestling')\n",
    "user_pred_list.append(fWrestling_user_pred)"
   ]
  },
  {
   "cell_type": "code",
   "execution_count": 64,
   "metadata": {},
   "outputs": [
    {
     "name": "stdout",
     "output_type": "stream",
     "text": [
      "[0.80187798]\n"
     ]
    }
   ],
   "source": [
    "fRowing_user_pred = fRowing_clf.predict_proba(user_df_reg)\n",
    "fRowing_user_pred = fRowing_user_pred[:,1]\n",
    "print(mRowing_user_pred)\n",
    "msports.append('Rowing')\n",
    "user_pred_list.append(mRowing_user_pred)"
   ]
  },
  {
   "cell_type": "code",
   "execution_count": 65,
   "metadata": {},
   "outputs": [
    {
     "name": "stdout",
     "output_type": "stream",
     "text": [
      "[0.91143152]\n"
     ]
    }
   ],
   "source": [
    "fSwimming_user_pred = fSwimming_clf.predict_proba(user_df_reg)\n",
    "fSwimming_user_pred = fSwimming_user_pred[:,1]\n",
    "print(fSwimming_user_pred)\n",
    "fsports.append('Swimming')\n",
    "user_pred_list.append(fSwimming_user_pred)"
   ]
  },
  {
   "cell_type": "code",
   "execution_count": 66,
   "metadata": {},
   "outputs": [
    {
     "name": "stdout",
     "output_type": "stream",
     "text": [
      "[0.00027456]\n"
     ]
    }
   ],
   "source": [
    "fFootball_user_pred = fFootball_clf.predict_proba(user_df_reg)\n",
    "fFootball_user_pred = fFootball_user_pred[:,1]\n",
    "print(fFootball_user_pred)\n",
    "fsports.append('Football')\n",
    "user_pred_list.append(fFootball_user_pred)"
   ]
  },
  {
   "cell_type": "code",
   "execution_count": 67,
   "metadata": {},
   "outputs": [
    {
     "name": "stdout",
     "output_type": "stream",
     "text": [
      "[0.01233084]\n"
     ]
    }
   ],
   "source": [
    "fEquestrianism_user_pred = fEquestrianism_clf.predict_proba(user_df_reg)\n",
    "fEquestrianism_user_pred = fEquestrianism_user_pred[:,1]\n",
    "print(fEquestrianism_user_pred)\n",
    "fsports.append('Equestrianism')\n",
    "user_pred_list.append(fEquestrianism_user_pred)"
   ]
  },
  {
   "cell_type": "code",
   "execution_count": 68,
   "metadata": {},
   "outputs": [
    {
     "name": "stdout",
     "output_type": "stream",
     "text": [
      "[0.01418999]\n"
     ]
    }
   ],
   "source": [
    "fShooting_user_pred = fShooting_clf.predict_proba(user_df_reg)\n",
    "fShooting_user_pred = fShooting_user_pred[:,1]\n",
    "print(fShooting_user_pred)\n",
    "fsports.append('Shooting')\n",
    "user_pred_list.append(fShooting_user_pred)"
   ]
  },
  {
   "cell_type": "code",
   "execution_count": 69,
   "metadata": {},
   "outputs": [
    {
     "name": "stdout",
     "output_type": "stream",
     "text": [
      "[1.91086925e-05]\n"
     ]
    }
   ],
   "source": [
    "fGymnastics_user_pred = fGymnastics_clf.predict_proba(user_df_reg)\n",
    "fGymnastics_user_pred = fGymnastics_user_pred[:,1]\n",
    "print(fGymnastics_user_pred)\n",
    "fsports.append('Gymnastics')\n",
    "user_pred_list.append(fGymnastics_user_pred)"
   ]
  },
  {
   "cell_type": "code",
   "execution_count": 70,
   "metadata": {},
   "outputs": [
    {
     "name": "stdout",
     "output_type": "stream",
     "text": [
      "[0.00078048]\n"
     ]
    }
   ],
   "source": [
    "fTaekwondo_user_pred = fTaekwondo_clf.predict_proba(user_df_reg)\n",
    "fTaekwondo_user_pred = fTaekwondo_user_pred[:,1]\n",
    "print(fTaekwondo_user_pred)\n",
    "fsports.append('Taekwondo')\n",
    "user_pred_list.append(fTaekwondo_user_pred)"
   ]
  },
  {
   "cell_type": "code",
   "execution_count": 71,
   "metadata": {},
   "outputs": [
    {
     "name": "stdout",
     "output_type": "stream",
     "text": [
      "[1.93038566e-06]\n"
     ]
    }
   ],
   "source": [
    "fBoxing_user_pred = fBoxing_clf.predict_proba(user_df_reg)\n",
    "fBoxing_user_pred = fBoxing_user_pred[:,1]\n",
    "print(fBoxing_user_pred)\n",
    "fsports.append('Boxing')\n",
    "user_pred_list.append(fBoxing_user_pred)"
   ]
  },
  {
   "cell_type": "code",
   "execution_count": 72,
   "metadata": {},
   "outputs": [
    {
     "name": "stdout",
     "output_type": "stream",
     "text": [
      "[0.37501613]\n"
     ]
    }
   ],
   "source": [
    "fFencing_user_pred = fFencing_clf.predict_proba(user_df_reg)\n",
    "fFencing_user_pred = fFencing_user_pred[:,1]\n",
    "print(fFencing_user_pred)\n",
    "fsports.append('Fencing')\n",
    "user_pred_list.append(fFencing_user_pred)"
   ]
  },
  {
   "cell_type": "code",
   "execution_count": 73,
   "metadata": {},
   "outputs": [
    {
     "name": "stdout",
     "output_type": "stream",
     "text": [
      "[0.00025589]\n"
     ]
    }
   ],
   "source": [
    "fDiving_user_pred = fDiving_clf.predict_proba(user_df_reg)\n",
    "fDiving_user_pred = fDiving_user_pred[:,1]\n",
    "print(fDiving_user_pred)\n",
    "fsports.append('Diving')\n",
    "user_pred_list.append(fDiving_user_pred)"
   ]
  },
  {
   "cell_type": "code",
   "execution_count": 74,
   "metadata": {},
   "outputs": [
    {
     "name": "stdout",
     "output_type": "stream",
     "text": [
      "[0.00839893]\n"
     ]
    }
   ],
   "source": [
    "fCanoeing_user_pred = fCanoeing_clf.predict_proba(user_df_reg)\n",
    "fCanoeing_user_pred = fCanoeing_user_pred[:,1]\n",
    "print(fCanoeing_user_pred)\n",
    "fsports.append('Canoeing')\n",
    "user_pred_list.append(fCanoeing_user_pred)"
   ]
  },
  {
   "cell_type": "code",
   "execution_count": 75,
   "metadata": {},
   "outputs": [
    {
     "name": "stdout",
     "output_type": "stream",
     "text": [
      "[0.82319466]\n"
     ]
    }
   ],
   "source": [
    "fHandball_user_pred = fHandball_clf.predict_proba(user_df_reg)\n",
    "fHandball_user_pred = fHandball_user_pred[:,1]\n",
    "print(fHandball_user_pred)\n",
    "fsports.append('Handball')\n",
    "user_pred_list.append(fHandball_user_pred)"
   ]
  },
  {
   "cell_type": "code",
   "execution_count": 76,
   "metadata": {},
   "outputs": [
    {
     "name": "stdout",
     "output_type": "stream",
     "text": [
      "[0.0026751]\n"
     ]
    }
   ],
   "source": [
    "fWater_Polo_user_pred = fWater_Polo_clf.predict_proba(user_df_reg)\n",
    "fWater_Polo_user_pred = fWater_Polo_user_pred[:,1]\n",
    "print(fWater_Polo_user_pred)\n",
    "fsports.append('Water Polo')\n",
    "user_pred_list.append(fWater_Polo_user_pred)"
   ]
  },
  {
   "cell_type": "code",
   "execution_count": 77,
   "metadata": {},
   "outputs": [
    {
     "name": "stdout",
     "output_type": "stream",
     "text": [
      "[0.2523602]\n"
     ]
    }
   ],
   "source": [
    "fTennis_user_pred = fTennis_clf.predict_proba(user_df_reg)\n",
    "fTennis_user_pred = fTennis_user_pred[:,1]\n",
    "print(fTennis_user_pred)\n",
    "fsports.append('Tennis')\n",
    "user_pred_list.append(fTennis_user_pred)"
   ]
  },
  {
   "cell_type": "code",
   "execution_count": 78,
   "metadata": {},
   "outputs": [
    {
     "name": "stdout",
     "output_type": "stream",
     "text": [
      "[0.0360219]\n"
     ]
    }
   ],
   "source": [
    "fCycling_user_pred = fCycling_clf.predict_proba(user_df_reg)\n",
    "fCycling_user_pred = fCycling_user_pred[:,1]\n",
    "print(fCycling_user_pred)\n",
    "fsports.append('Cycling')\n",
    "user_pred_list.append(fCycling_user_pred)"
   ]
  },
  {
   "cell_type": "code",
   "execution_count": 80,
   "metadata": {},
   "outputs": [
    {
     "name": "stdout",
     "output_type": "stream",
     "text": [
      "[0.05698939]\n"
     ]
    }
   ],
   "source": [
    "fHockey_user_pred = fHockey_clf.predict_proba(user_df_reg)\n",
    "fHockey_user_pred = fHockey_user_pred[:,1]\n",
    "print(fHockey_user_pred)\n",
    "fsports.append('Hockey')\n",
    "user_pred_list.append(fHockey_user_pred)"
   ]
  },
  {
   "cell_type": "code",
   "execution_count": 81,
   "metadata": {},
   "outputs": [
    {
     "name": "stdout",
     "output_type": "stream",
     "text": [
      "[0.05698939]\n"
     ]
    }
   ],
   "source": [
    "fArchery_user_pred = fArchery_clf.predict_proba(user_df_reg)\n",
    "fArchery_user_pred = fArchery_user_pred[:,1]\n",
    "print(fArchery_user_pred)\n",
    "fsports.append('Archery')\n",
    "user_pred_list.append(fArchery_user_pred)"
   ]
  },
  {
   "cell_type": "code",
   "execution_count": 82,
   "metadata": {},
   "outputs": [
    {
     "name": "stdout",
     "output_type": "stream",
     "text": [
      "[0.9839717]\n"
     ]
    }
   ],
   "source": [
    "fVolleyball_user_pred = fVolleyball_clf.predict_proba(user_df_reg)\n",
    "fVolleyball_user_pred = fVolleyball_user_pred[:,1]\n",
    "print(fVolleyball_user_pred)\n",
    "fsports.append('Volleyball')\n",
    "user_pred_list.append(fVolleyball_user_pred)"
   ]
  },
  {
   "cell_type": "code",
   "execution_count": 83,
   "metadata": {},
   "outputs": [
    {
     "name": "stdout",
     "output_type": "stream",
     "text": [
      "[0.00014581]\n"
     ]
    }
   ],
   "source": [
    "fModern_Pentathlon_user_pred = fModern_Pentathlon_clf.predict_proba(user_df_reg)\n",
    "fModern_Pentathlon_user_pred = fModern_Pentathlon_user_pred[:,1]\n",
    "print(fModern_Pentathlon_user_pred)\n",
    "fsports.append('Modern Pentathlon')\n",
    "user_pred_list.append(fModern_Pentathlon_user_pred)"
   ]
  },
  {
   "cell_type": "code",
   "execution_count": 84,
   "metadata": {},
   "outputs": [
    {
     "name": "stdout",
     "output_type": "stream",
     "text": [
      "[0.00023106]\n"
     ]
    }
   ],
   "source": [
    "fTable_Tennis_user_pred = fTable_Tennis_clf.predict_proba(user_df_reg)\n",
    "fTable_Tennis_user_pred = fTable_Tennis_user_pred[:,1]\n",
    "print(fTable_Tennis_user_pred)\n",
    "fsports.append('Table Tennis')\n",
    "user_pred_list.append(fTable_Tennis_user_pred)"
   ]
  },
  {
   "cell_type": "code",
   "execution_count": 85,
   "metadata": {},
   "outputs": [
    {
     "name": "stdout",
     "output_type": "stream",
     "text": [
      "[0.00054799]\n"
     ]
    }
   ],
   "source": [
    "fRugby_Sevens_user_pred = fRugby_Sevens_clf.predict_proba(user_df_reg)\n",
    "fRugby_Sevens_user_pred = fRugby_Sevens_user_pred[:,1]\n",
    "print(fRugby_Sevens_user_pred)\n",
    "fsports.append('Rugby Sevens')\n",
    "user_pred_list.append(fRugby_Sevens_user_pred)"
   ]
  },
  {
   "cell_type": "code",
   "execution_count": 86,
   "metadata": {},
   "outputs": [
    {
     "name": "stdout",
     "output_type": "stream",
     "text": [
      "[1.4444564e-08]\n"
     ]
    }
   ],
   "source": [
    "fTrampolining_user_pred = fTrampolining_clf.predict_proba(user_df_reg)\n",
    "fTrampolining_user_pred = fTrampolining_user_pred[:,1]\n",
    "print(fTrampolining_user_pred)\n",
    "fsports.append('Trampolining')\n",
    "user_pred_list.append(fTrampolining_user_pred)"
   ]
  },
  {
   "cell_type": "code",
   "execution_count": 87,
   "metadata": {},
   "outputs": [
    {
     "name": "stdout",
     "output_type": "stream",
     "text": [
      "[0.00343118]\n"
     ]
    }
   ],
   "source": [
    "fBeach_Volleyball_user_pred = fBeach_Volleyball_clf.predict_proba(user_df_reg)\n",
    "fBeach_Volleyball_user_pred = fBeach_Volleyball_user_pred[:,1]\n",
    "print(mBeach_Volleyball_user_pred)\n",
    "msports.append('Beach Volleyball')\n",
    "user_pred_list.append(mBeach_Volleyball_user_pred)"
   ]
  },
  {
   "cell_type": "code",
   "execution_count": 88,
   "metadata": {},
   "outputs": [
    {
     "name": "stdout",
     "output_type": "stream",
     "text": [
      "[0.00035686]\n"
     ]
    }
   ],
   "source": [
    "fTriathlon_user_pred = fTriathlon_clf.predict_proba(user_df_reg)\n",
    "fTriathlon_user_pred = fTriathlon_user_pred[:,1]\n",
    "print(mTriathlon_user_pred)\n",
    "msports.append('Triathlon')\n",
    "user_pred_list.append(mTriathlon_user_pred)"
   ]
  },
  {
   "cell_type": "code",
   "execution_count": 89,
   "metadata": {
    "scrolled": true
   },
   "outputs": [
    {
     "name": "stdout",
     "output_type": "stream",
     "text": [
      "[2.74661058e-06]\n"
     ]
    }
   ],
   "source": [
    "fGolf_user_pred = fGolf_clf.predict_proba(user_df_reg)\n",
    "fGolf_user_pred = fGolf_user_pred[:,1]\n",
    "print(fGolf_user_pred)\n",
    "fsports.append('Golf')\n",
    "user_pred_list.append(fGolf_user_pred)"
   ]
  },
  {
   "cell_type": "code",
   "execution_count": 90,
   "metadata": {},
   "outputs": [
    {
     "name": "stdout",
     "output_type": "stream",
     "text": [
      "[3.18733308e-07]\n"
     ]
    }
   ],
   "source": [
    "fRhythmic_Gymnastics_user_pred = fRhythmic_Gymnastics_clf.predict_proba(user_df_reg)\n",
    "fRhythmic_Gymnastics_user_pred = fRhythmic_Gymnastics_user_pred[:,1]\n",
    "print(fRhythmic_Gymnastics_user_pred)\n",
    "fsports.append('Rhythmic_Gymnastics')\n",
    "user_pred_list.append(fRhythmic_Gymnastics_user_pred)"
   ]
  },
  {
   "cell_type": "code",
   "execution_count": 91,
   "metadata": {},
   "outputs": [
    {
     "name": "stdout",
     "output_type": "stream",
     "text": [
      "[0.00072323]\n"
     ]
    }
   ],
   "source": [
    "fSoftball_user_pred = fSoftball_clf.predict_proba(user_df_reg)\n",
    "fSoftball_user_pred = fSoftball_user_pred[:,1]\n",
    "print(fSoftball_user_pred)\n",
    "fsports.append('Softball')\n",
    "user_pred_list.append(fSoftball_user_pred)"
   ]
  },
  {
   "cell_type": "code",
   "execution_count": 95,
   "metadata": {},
   "outputs": [
    {
     "name": "stdout",
     "output_type": "stream",
     "text": [
      "[2.16055597e-05]\n"
     ]
    }
   ],
   "source": [
    "fSynchronized_Swimming_user_pred = fSynchronized_Swimming_clf.predict_proba(user_df_reg)\n",
    "fSynchronized_Swimming_user_pred = fSynchronized_Swimming_user_pred[:,1]\n",
    "print(fSynchronized_Swimming_user_pred)\n",
    "fsports.append('Synchronized_Swimming')\n",
    "user_pred_list.append(fSynchronized_Swimming_user_pred)"
   ]
  },
  {
   "cell_type": "code",
   "execution_count": 96,
   "metadata": {},
   "outputs": [
    {
     "name": "stdout",
     "output_type": "stream",
     "text": [
      "Volleyball\n"
     ]
    }
   ],
   "source": [
    "user_max = max(user_pred_list)\n",
    "user_max_pos = user_pred_list.index(user_max)\n",
    "user_max_sport = msports[user_max_pos]\n",
    "print(user_max_sport)"
   ]
  },
  {
   "cell_type": "code",
   "execution_count": 97,
   "metadata": {},
   "outputs": [
    {
     "name": "stdout",
     "output_type": "stream",
     "text": [
      "Rugby Sevens\n"
     ]
    }
   ],
   "source": [
    "user_min = min(user_pred_list)\n",
    "user_min_pos = user_pred_list.index(user_min)\n",
    "user_min_sport = msports[user_min_pos]\n",
    "print(user_min_sport)"
   ]
  },
  {
   "cell_type": "code",
   "execution_count": null,
   "metadata": {},
   "outputs": [],
   "source": []
  }
 ],
 "metadata": {
  "kernelspec": {
   "display_name": "Python [conda env:PythonData] *",
   "language": "python",
   "name": "conda-env-PythonData-py"
  },
  "language_info": {
   "codemirror_mode": {
    "name": "ipython",
    "version": 3
   },
   "file_extension": ".py",
   "mimetype": "text/x-python",
   "name": "python",
   "nbconvert_exporter": "python",
   "pygments_lexer": "ipython3",
   "version": "3.6.10"
  }
 },
 "nbformat": 4,
 "nbformat_minor": 4
}
