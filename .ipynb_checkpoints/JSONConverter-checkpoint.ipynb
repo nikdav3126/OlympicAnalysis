{
 "cells": [
  {
   "cell_type": "code",
   "execution_count": 6,
   "id": "81e745aa",
   "metadata": {},
   "outputs": [],
   "source": [
    "import csv\n",
    "import json\n",
    " \n",
    " \n",
    "# Function to convert a CSV to JSON\n",
    "# Takes the file paths as arguments\n",
    "def make_json(csvFilePath, jsonFilePath):\n",
    "     \n",
    "    # create a dictionary\n",
    "    data = {}\n",
    "     \n",
    "    # Open a csv reader called DictReader\n",
    "    with open(csvFilePath, encoding='utf-8') as csvf:\n",
    "        csvReader = csv.DictReader(csvf)\n",
    "         \n",
    "        # Convert each row into a dictionary\n",
    "        # and add it to data\n",
    "        for rows in csvReader:\n",
    "             \n",
    "            # establish primary key\n",
    "            x = rows['Team']\n",
    "            if x in data:\n",
    "                data[x].append(rows)\n",
    "            else:\n",
    "                data[x]=[rows]\n",
    " \n",
    "    # Open a json writer, and use the json.dumps()\n",
    "    # function to dump data\n",
    "    with open(jsonFilePath, 'w', encoding='utf-8') as jsonf:\n",
    "        jsonf.write(json.dumps(data, indent=4))\n",
    "         \n",
    "# Driver Code\n",
    " \n",
    "# Decide the two file paths according to your\n",
    "# computer system\n",
    "csvFilePath = r'archive/countryPredictions.csv'\n",
    "jsonFilePath = r'archive/countryPredictions.json'\n",
    " \n",
    "# Call the make_json function\n",
    "make_json(csvFilePath, jsonFilePath)"
   ]
  },
  {
   "cell_type": "code",
   "execution_count": 3,
   "id": "c6a3390c",
   "metadata": {},
   "outputs": [
    {
     "name": "stdout",
     "output_type": "stream",
     "text": [
      "C:\\Users\\14043\\OlympicAnalysis\n"
     ]
    }
   ],
   "source": [
    "import csv\n",
    "import json \n",
    "import os\n",
    "\n",
    " # Function to convert a CSV to JSON\n",
    "# Takes the file paths as arguments\n",
    "def make_json(csvFilePath, jsonFilePath):\n",
    "     \n",
    "    # create a dictionary\n",
    "    data = {}\n",
    "\n",
    "    # Open a csv reader called DictReader\n",
    "    with open(csvFilePath, encoding='utf-8') as csvf:\n",
    "        csvReader = csv.DictReader(csvf)\n",
    " \n",
    "        # Convert each row into a dictionary\n",
    "        # and add it to data\n",
    "        for rows in csvReader:\n",
    "             \n",
    "            # establish primary key\n",
    "            x = rows['NOC']\n",
    "            if x in data:\n",
    "                data[x].append(rows)\n",
    "            else:\n",
    "                data[x]=[rows]\n",
    "            \n",
    "    # Open a json writer, and use the json.dumps()\n",
    "    # function to dump data\n",
    "    with open(jsonFilePath, 'w', encoding='utf-8') as jsonf:\n",
    "        jsonf.write(json.dumps(data, indent=4))\n",
    "          \n",
    "# Decide the two file paths according to your\n",
    "# computer system\n",
    "def make_jsonS():\n",
    "    # iterate over files in\n",
    "    # that directory\n",
    "    cwd = os.getcwd()\n",
    "    print(cwd)\n",
    "    file_list = os.listdir(cwd)\n",
    "    \n",
    "    # iterate over the files, changing the variables and applying the make json function\n",
    "    for file in file_list:\n",
    "        if '.csv' in str(file):\n",
    "            json_name = file.split('.csv')[0]\n",
    "            csvFilePath = f'{archive/countryData.csv}'\n",
    "            jsonFilePath = f'{archive/countryData}.json'\n",
    "            # Call the make_json function\n",
    "            make_json(csvFilePath, jsonFilePath)\n",
    "make_jsonS()"
   ]
  },
  {
   "cell_type": "code",
   "execution_count": null,
   "id": "b2b0fa48",
   "metadata": {},
   "outputs": [],
   "source": []
  }
 ],
 "metadata": {
  "kernelspec": {
   "display_name": "Python 3 (ipykernel)",
   "language": "python",
   "name": "python3"
  },
  "language_info": {
   "codemirror_mode": {
    "name": "ipython",
    "version": 3
   },
   "file_extension": ".py",
   "mimetype": "text/x-python",
   "name": "python",
   "nbconvert_exporter": "python",
   "pygments_lexer": "ipython3",
   "version": "3.9.7"
  }
 },
 "nbformat": 4,
 "nbformat_minor": 5
}
