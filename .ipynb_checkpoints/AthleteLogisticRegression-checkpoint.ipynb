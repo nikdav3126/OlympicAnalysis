{
 "cells": [
  {
   "cell_type": "code",
   "execution_count": null,
   "id": "ad082071",
   "metadata": {
    "scrolled": false
   },
   "outputs": [],
   "source": [
    "# Import our dependencies\n",
    "from sklearn.model_selection import train_test_split\n",
    "from sklearn.preprocessing import StandardScaler\n",
    "from sklearn.linear_model import LogisticRegression\n",
    "import pandas as pd\n",
    "import tensorflow as tf\n",
    "import numpy as np\n",
    "\n",
    "\n",
    "#  Import and read the data.csv.\n",
    "import pandas as pd \n",
    "data_df = pd.read_csv(\"archive/data.csv\")\n",
    "#data_df.head()"
   ]
  },
  {
   "cell_type": "code",
   "execution_count": null,
   "id": "e7310384",
   "metadata": {},
   "outputs": [],
   "source": [
    "#Drop unnecessary columns\n",
    "data_df = data_df.drop([\"Unnamed: 0\",\"Unnamed: 0.1\", \"ID\", \"Name\", \"Sex\", \"Age\", \"Height\", \"Weight\",\"Event\", \"Team\", \"Games\",\"Year\",\"City\", \"Nat_Pop\", \"GDP\"], 1)\n",
    "\n",
    "#data_df = data_df.drop([\"GDP_Per_Cap\"], 1)\n",
    "data_df = data_df[data_df.GDP_Per_Cap != '#DIV/0!']\n",
    "\n",
    "#Rename Global_Pop% and Rural_Pop% to make it easier to call in future\n",
    "data_df.rename(columns = {'Global_Pop%':'Global_Pop_Perc'}, inplace = True)\n",
    "data_df.rename(columns = {'Rural_Pop%':'Rural_Pop_Perc'}, inplace = True)\n",
    "data_df.rename(columns = {'Global_GDP%':'Global_GDP_Perc'}, inplace = True)"
   ]
  },
  {
   "cell_type": "code",
   "execution_count": null,
   "id": "585efd55",
   "metadata": {
    "scrolled": true
   },
   "outputs": [],
   "source": [
    "#Filter out season data to just summer\n",
    "data_df = data_df[data_df[\"Season\"].str.contains(\"Winter\") == False]\n",
    "\n",
    "#Filter out hockey data since it is a winter sport\n",
    "data_df = data_df[data_df[\"Sport\"].str.contains(\"Hockey\") == False]"
   ]
  },
  {
   "cell_type": "code",
   "execution_count": null,
   "id": "67b58302",
   "metadata": {},
   "outputs": [],
   "source": [
    "#Turn Medal Values into Boolean\n",
    "data_df.fillna(value = False,\n",
    "          inplace = True)\n",
    "\n",
    "#Drop Season since no longer needed after filtering\n",
    "data_df = data_df.drop([\"Season\"],1)\n",
    "data_df.head()"
   ]
  },
  {
   "cell_type": "code",
   "execution_count": null,
   "id": "2c8c5dd2",
   "metadata": {
    "scrolled": true
   },
   "outputs": [],
   "source": [
    "#Replace medal values to true to finish boolean\n",
    "data_df = data_df.replace({\"Gold\" : True})\n",
    "data_df = data_df.replace({\"Silver\" : True})\n",
    "data_df = data_df.replace({\"Bronze\" : True})"
   ]
  },
  {
   "cell_type": "code",
   "execution_count": null,
   "id": "3274fe24",
   "metadata": {},
   "outputs": [],
   "source": [
    "#Begin binning data to make it easier to get dummies\n",
    "#Find min and max of data types to create bins\n",
    "data_df['Global_Pop_Perc'] = data_df['Global_Pop_Perc'].astype(float, errors = 'raise')\n",
    "\n",
    "min_value = data_df['Global_Pop_Perc'].min()\n",
    "max_value = data_df['Global_Pop_Perc'].max()\n",
    "print(min_value)\n",
    "print(max_value)\n",
    "\n",
    "#Create bins with min and max\n",
    "bins = np.linspace(min_value,max_value,10)\n",
    "\n",
    "names = [\"0\",\"1\",\"2\",\"3\",\"4\",\"5\",\"6\",\"7\",\"8\"]\n",
    "print(bins)\n",
    "print (names)\n"
   ]
  },
  {
   "cell_type": "code",
   "execution_count": null,
   "id": "c6d48148",
   "metadata": {},
   "outputs": [],
   "source": [
    "data_df[\"Global_Pop_Bin\"] = pd.cut(data_df[\"Global_Pop_Perc\"], bins, labels=names)\n",
    "data_df"
   ]
  },
  {
   "cell_type": "code",
   "execution_count": null,
   "id": "39582b9d",
   "metadata": {},
   "outputs": [],
   "source": [
    "data_df['GDP_Per_Cap'] = data_df['GDP_Per_Cap'].astype(float, errors = 'raise')\n",
    "\n",
    "min_value = data_df['GDP_Per_Cap'].min()\n",
    "max_value = data_df['GDP_Per_Cap'].max()\n",
    "print(min_value)\n",
    "print(max_value)\n",
    "\n",
    "#Create bins with min and max\n",
    "bins = np.linspace(min_value,max_value,10)"
   ]
  },
  {
   "cell_type": "code",
   "execution_count": null,
   "id": "3670d13a",
   "metadata": {},
   "outputs": [],
   "source": [
    "data_df[\"GDP_Per_Cap\"] = pd.cut(data_df[\"GDP_Per_Cap\"], bins, labels=names)"
   ]
  },
  {
   "cell_type": "code",
   "execution_count": null,
   "id": "e1f7a721",
   "metadata": {},
   "outputs": [],
   "source": [
    "data_df['Rural_Pop_Perc'] = data_df['Rural_Pop_Perc'].astype(float, errors = 'raise')\n",
    "\n",
    "min_value = data_df['Rural_Pop_Perc'].min()\n",
    "max_value = data_df['Rural_Pop_Perc'].max()\n",
    "print(min_value)\n",
    "print(max_value)\n",
    "\n",
    "#Create bins with min and max\n",
    "bins = np.linspace(min_value,max_value,10)"
   ]
  },
  {
   "cell_type": "code",
   "execution_count": null,
   "id": "cee5af41",
   "metadata": {},
   "outputs": [],
   "source": [
    "data_df[\"Rural_Pop_Bin\"] = pd.cut(data_df[\"Rural_Pop_Perc\"], bins, labels=names)"
   ]
  },
  {
   "cell_type": "code",
   "execution_count": null,
   "id": "21082421",
   "metadata": {
    "scrolled": true
   },
   "outputs": [],
   "source": [
    "data_df['Life_Expect'] = data_df['Life_Expect'].astype(float, errors = 'raise')\n",
    "\n",
    "min_value = data_df['Life_Expect'].min()\n",
    "max_value = data_df['Life_Expect'].max()\n",
    "print(min_value)\n",
    "print(max_value)\n",
    "\n",
    "#Create bins with min and max\n",
    "bins = np.linspace(min_value,max_value,10)\n",
    "\n",
    "data_df[\"Life_Expect_Bin\"] = pd.cut(data_df[\"Life_Expect\"], bins, labels=names)"
   ]
  },
  {
   "cell_type": "code",
   "execution_count": null,
   "id": "183a9313",
   "metadata": {
    "scrolled": true
   },
   "outputs": [],
   "source": [
    "data_df.dtypes"
   ]
  },
  {
   "cell_type": "code",
   "execution_count": null,
   "id": "8a20594d",
   "metadata": {},
   "outputs": [],
   "source": [
    "min_value = data_df['Global_GDP_Perc'].min()\n",
    "max_value = data_df['Global_GDP_Perc'].max()\n",
    "print(min_value)\n",
    "print(max_value)\n",
    "\n",
    "#Create bins with min and max\n",
    "bins = np.linspace(min_value,max_value,10)\n",
    "\n",
    "names = [\"0\",\"1\",\"2\",\"3\",\"4\",\"5\",\"6\",\"7\",\"8\"]\n",
    "\n",
    "data_df[\"Global_GDP_Perc_Bin\"] = pd.cut(data_df[\"Global_GDP_Perc\"], bins, labels=names)"
   ]
  },
  {
   "cell_type": "code",
   "execution_count": null,
   "id": "3a31b6b9",
   "metadata": {
    "scrolled": false
   },
   "outputs": [],
   "source": [
    "data_df = data_df.drop([\"Global_Pop_Perc\", \"Rural_Pop_Perc\", \"Life_Expect\", \"Global_GDP_Perc\"], 1)\n",
    "data_df.head()"
   ]
  },
  {
   "cell_type": "markdown",
   "id": "52c5de80",
   "metadata": {},
   "source": [
    "Athletics Logistic Regression"
   ]
  },
  {
   "cell_type": "code",
   "execution_count": null,
   "id": "69c73df7",
   "metadata": {},
   "outputs": [],
   "source": [
    "# Creating on the basis of Athlethics\n",
    "Athletics_df = data_df[data_df['Sport'] == \"Athletics\"]\n",
    "Athletics_df = Athletics_df.dropna()\n",
    " \n",
    "print(Athletics_df)"
   ]
  },
  {
   "cell_type": "code",
   "execution_count": null,
   "id": "b1bc3849",
   "metadata": {},
   "outputs": [],
   "source": [
    "Athletics_dummies = pd.get_dummies(Athletics_df)\n",
    "Athletics_dummies.head(3)"
   ]
  },
  {
   "cell_type": "code",
   "execution_count": null,
   "id": "52692cd9",
   "metadata": {},
   "outputs": [],
   "source": [
    "from sklearn.model_selection import train_test_split\n",
    "\n",
    "# Convert categorical data to numeric and separate target feature for training data\n",
    "x_train = Athletics_dummies.drop(columns=['Medal'])\n",
    "y_train = Athletics_dummies['Medal']\n",
    "\n",
    "# Convert categorical data to numeric and separate target feature for testing data\n",
    "x_test = Athletics_dummies.drop(columns=['Medal'])\n",
    "y_test = Athletics_dummies['Medal']"
   ]
  },
  {
   "cell_type": "code",
   "execution_count": null,
   "id": "af117b38",
   "metadata": {
    "scrolled": true
   },
   "outputs": [],
   "source": [
    "# Train the Logistic Regression model on the unscaled data and print the model score\n",
    "classifier = LogisticRegression()\n",
    "classifier.fit(x_train, y_train)\n",
    "classifier.score(x_test, y_test)"
   ]
  },
  {
   "cell_type": "code",
   "execution_count": null,
   "id": "5fa8d83a",
   "metadata": {
    "scrolled": true
   },
   "outputs": [],
   "source": [
    "clf = LogisticRegression(penalty='l1', dual=False, tol=0.001, C=1.0, fit_intercept=True, \n",
    "                   intercept_scaling=1, class_weight='balanced', random_state=None, \n",
    "                   solver='liblinear', max_iter=1000, multi_class='ovr', verbose=0)\n",
    "\n",
    "clf.fit(x_train, np.ravel(y_train.values))\n",
    "y_pred = clf.predict_proba(x_test)\n",
    "y_pred = y_pred[:,1]\n",
    "\n",
    "display(y_pred,Athletics_df)"
   ]
  },
  {
   "cell_type": "code",
   "execution_count": null,
   "id": "e87a68d8",
   "metadata": {},
   "outputs": [],
   "source": [
    "Athletics_df['Predictions'] = y_pred.tolist()"
   ]
  },
  {
   "cell_type": "code",
   "execution_count": null,
   "id": "68da2e0a",
   "metadata": {
    "scrolled": true
   },
   "outputs": [],
   "source": [
    "Athletics_final = Athletics_df.drop_duplicates(subset=['NOC'], keep='last')\n",
    "Athletics_final.drop([\"Host\",\"GDP_Per_Cap\", \"Global_Pop_Bin\", \"Rural_Pop_Bin\", \"Life_Expect_Bin\", \"Global_GDP_Perc_Bin\", \"Medal\"], 1)"
   ]
  },
  {
   "cell_type": "markdown",
   "id": "91792ae7",
   "metadata": {},
   "source": [
    "##Swimming Logistics Regression"
   ]
  },
  {
   "cell_type": "code",
   "execution_count": null,
   "id": "68c8be4d",
   "metadata": {},
   "outputs": [],
   "source": [
    "# Creating on the basis of Athlethics\n",
    "Swimming_df = data_df[data_df['Sport'] == \"Swimming\"]\n",
    "Swimming_df = Swimming_df.dropna()\n",
    "  \n",
    "print(Swimming_df)"
   ]
  },
  {
   "cell_type": "code",
   "execution_count": null,
   "id": "c9524e0d",
   "metadata": {
    "scrolled": true
   },
   "outputs": [],
   "source": [
    "Swimming_dummies = pd.get_dummies(Swimming_df)\n",
    "Swimming_dummies.head(3)"
   ]
  },
  {
   "cell_type": "code",
   "execution_count": null,
   "id": "10f68954",
   "metadata": {},
   "outputs": [],
   "source": [
    "# Convert categorical data to numeric and separate target feature for training data\n",
    "x_train = Swimming_dummies.drop(columns=['Medal'])\n",
    "y_train = Swimming_dummies['Medal']"
   ]
  },
  {
   "cell_type": "code",
   "execution_count": null,
   "id": "fa9a5e90",
   "metadata": {},
   "outputs": [],
   "source": [
    "x_test = Swimming_dummies.drop(columns=['Medal'])\n",
    "y_test = Swimming_dummies['Medal']"
   ]
  },
  {
   "cell_type": "code",
   "execution_count": null,
   "id": "cea14b15",
   "metadata": {
    "scrolled": true
   },
   "outputs": [],
   "source": [
    "classifier = LogisticRegression()\n",
    "classifier.fit(x_train, y_train)\n",
    "classifier.score(x_test, y_test)"
   ]
  },
  {
   "cell_type": "code",
   "execution_count": null,
   "id": "0599fdc1",
   "metadata": {},
   "outputs": [],
   "source": [
    "clf = LogisticRegression(penalty='l1', dual=False, tol=0.001, C=1.0, fit_intercept=True, \n",
    "                   intercept_scaling=1, class_weight='balanced', random_state=None, \n",
    "                   solver='liblinear', max_iter=1000, multi_class='ovr', verbose=0)\n",
    "\n",
    "clf.fit(x_train, np.ravel(y_train.values))\n",
    "y_pred = clf.predict_proba(x_test)\n",
    "y_pred = y_pred[:,1]\n",
    "\n",
    "display(y_pred,Swimming_df)"
   ]
  },
  {
   "cell_type": "code",
   "execution_count": null,
   "id": "1e96b9cc",
   "metadata": {},
   "outputs": [],
   "source": [
    "Swimming_df['Predictions'] = y_pred.tolist()"
   ]
  },
  {
   "cell_type": "code",
   "execution_count": null,
   "id": "56c2552f",
   "metadata": {},
   "outputs": [],
   "source": [
    "Swimming_final = Swimming_df.drop_duplicates(subset=['NOC'], keep='last')\n",
    "Swimming_final.drop([\"Host\",\"GDP_Per_Cap\", \"Global_Pop_Bin\", \"Rural_Pop_Bin\", \"Life_Expect_Bin\", \"Global_GDP_Perc_Bin\", \"Medal\"], 1)"
   ]
  },
  {
   "cell_type": "markdown",
   "id": "b5dc6fef",
   "metadata": {},
   "source": [
    "Gymnastics Logistic Regression"
   ]
  },
  {
   "cell_type": "code",
   "execution_count": null,
   "id": "c8fa0a44",
   "metadata": {},
   "outputs": [],
   "source": [
    "Gymnastics_df = data_df[data_df['Sport'] == \"Gymnastics\"]\n",
    "Gymnastics_df = Gymnastics_df.dropna()"
   ]
  },
  {
   "cell_type": "code",
   "execution_count": null,
   "id": "69dbddf4",
   "metadata": {},
   "outputs": [],
   "source": [
    "Gymnastics_dummies = pd.get_dummies(Gymnastics_df)\n",
    "Gymnastics_dummies.head(3)"
   ]
  },
  {
   "cell_type": "code",
   "execution_count": null,
   "id": "31d45387",
   "metadata": {},
   "outputs": [],
   "source": []
  },
  {
   "cell_type": "code",
   "execution_count": null,
   "id": "658a22b3",
   "metadata": {},
   "outputs": [],
   "source": [
    "# Convert categorical data to numeric and separate target feature for training data\n",
    "x_train = Gymnastics_dummies.drop(columns=['Medal'])\n",
    "y_train = Gymnastics_dummies['Medal']\n",
    "\n",
    "x_test = Gymnastics_dummies.drop(columns=['Medal'])\n",
    "y_test = Gymnastics_dummies['Medal']"
   ]
  },
  {
   "cell_type": "code",
   "execution_count": null,
   "id": "ea41f67d",
   "metadata": {
    "scrolled": true
   },
   "outputs": [],
   "source": [
    "classifier = LogisticRegression()\n",
    "classifier.fit(x_train, y_train)\n",
    "classifier.score(x_test, y_test)"
   ]
  },
  {
   "cell_type": "code",
   "execution_count": null,
   "id": "9abad67d",
   "metadata": {},
   "outputs": [],
   "source": [
    "clf = LogisticRegression(penalty='l1', dual=False, tol=0.001, C=1.0, fit_intercept=True, \n",
    "                   intercept_scaling=1, class_weight='balanced', random_state=None, \n",
    "                   solver='liblinear', max_iter=1000, multi_class='ovr', verbose=0)\n",
    "\n",
    "clf.fit(x_train, np.ravel(y_train.values))\n",
    "y_pred = clf.predict_proba(x_test)\n",
    "y_pred = y_pred[:,1]\n",
    "\n",
    "display(y_pred,Gymnastics_df)"
   ]
  },
  {
   "cell_type": "code",
   "execution_count": null,
   "id": "113a37a0",
   "metadata": {
    "scrolled": true
   },
   "outputs": [],
   "source": [
    "Gymnastics_df['Predictions'] = y_pred.tolist()"
   ]
  },
  {
   "cell_type": "code",
   "execution_count": null,
   "id": "8f51912a",
   "metadata": {},
   "outputs": [],
   "source": [
    "Gymnastics_final = Gymnastics_df.drop_duplicates(subset=['NOC'], keep='last')\n",
    "Gymnastics_final.drop([\"Host\",\"GDP_Per_Cap\", \"Global_Pop_Bin\", \"Rural_Pop_Bin\", \"Life_Expect_Bin\", \"Global_GDP_Perc_Bin\", \"Medal\"], 1)"
   ]
  },
  {
   "cell_type": "markdown",
   "id": "cf4b1d22",
   "metadata": {},
   "source": [
    "Cycling Logistic Regression"
   ]
  },
  {
   "cell_type": "code",
   "execution_count": null,
   "id": "731b0bd7",
   "metadata": {
    "scrolled": false
   },
   "outputs": [],
   "source": [
    "Cycling_df = data_df[data_df['Sport'] == \"Cycling\"]\n",
    "Cycling_df = Cycling_df.dropna()"
   ]
  },
  {
   "cell_type": "code",
   "execution_count": null,
   "id": "90c1bdc6",
   "metadata": {},
   "outputs": [],
   "source": [
    "Cycling_dummies = pd.get_dummies(Cycling_df)\n",
    "Cycling_dummies.head(3)"
   ]
  },
  {
   "cell_type": "code",
   "execution_count": null,
   "id": "9e829eef",
   "metadata": {},
   "outputs": [],
   "source": [
    "# Convert categorical data to numeric and separate target feature for training data\n",
    "x_train = Cycling_dummies.drop(columns=['Medal'])\n",
    "y_train = Cycling_dummies['Medal']"
   ]
  },
  {
   "cell_type": "code",
   "execution_count": null,
   "id": "694a6549",
   "metadata": {},
   "outputs": [],
   "source": [
    "x_test = Cycling_dummies.drop(columns=['Medal'])\n",
    "y_test = Cycling_dummies['Medal']"
   ]
  },
  {
   "cell_type": "code",
   "execution_count": null,
   "id": "b52e05cf",
   "metadata": {},
   "outputs": [],
   "source": [
    "classifier = LogisticRegression()\n",
    "classifier.fit(x_train, y_train)\n",
    "classifier.score(x_test, y_test)"
   ]
  },
  {
   "cell_type": "code",
   "execution_count": null,
   "id": "cf944b93",
   "metadata": {},
   "outputs": [],
   "source": [
    "clf = LogisticRegression(penalty='l1', dual=False, tol=0.001, C=1.0, fit_intercept=True, \n",
    "                   intercept_scaling=1, class_weight='balanced', random_state=None, \n",
    "                   solver='liblinear', max_iter=1000, multi_class='ovr', verbose=0)\n",
    "\n",
    "clf.fit(x_train, np.ravel(y_train.values))\n",
    "y_pred = clf.predict_proba(x_test)\n",
    "y_pred = y_pred[:,1]\n",
    "\n",
    "display(y_pred,Cycling_df)"
   ]
  },
  {
   "cell_type": "code",
   "execution_count": null,
   "id": "a57c5518",
   "metadata": {},
   "outputs": [],
   "source": [
    "Cycling_df['Predictions'] = y_pred.tolist()"
   ]
  },
  {
   "cell_type": "code",
   "execution_count": null,
   "id": "57c9f036",
   "metadata": {},
   "outputs": [],
   "source": [
    "Cycling_final = Cycling_df.drop_duplicates(subset=['NOC'], keep='last')\n",
    "Cycling_final.drop([\"Host\",\"GDP_Per_Cap\", \"Global_Pop_Bin\", \"Rural_Pop_Bin\", \"Life_Expect_Bin\", \"Global_GDP_Perc_Bin\", \"Medal\"], 1)"
   ]
  },
  {
   "cell_type": "markdown",
   "id": "0a51565e",
   "metadata": {},
   "source": [
    "Rowing Logistic Regression"
   ]
  },
  {
   "cell_type": "code",
   "execution_count": null,
   "id": "6a43be47",
   "metadata": {},
   "outputs": [],
   "source": [
    "Rowing_df = data_df[data_df['Sport'] == \"Rowing\"]\n",
    "Rowing_df = Rowing_df.dropna()"
   ]
  },
  {
   "cell_type": "code",
   "execution_count": null,
   "id": "fb445480",
   "metadata": {},
   "outputs": [],
   "source": [
    "Rowing_dummies = pd.get_dummies(Rowing_df)\n",
    "Rowing_dummies.head(3)"
   ]
  },
  {
   "cell_type": "code",
   "execution_count": null,
   "id": "f46d87b5",
   "metadata": {},
   "outputs": [],
   "source": [
    "# Convert categorical data to numeric and separate target feature for training data\n",
    "x_train = Rowing_dummies.drop(columns=['Medal'])\n",
    "y_train = Rowing_dummies['Medal']\n",
    "\n",
    "x_test = Rowing_dummies.drop(columns=['Medal'])\n",
    "y_test = Rowing_dummies['Medal']\n",
    "\n",
    "classifier = LogisticRegression()\n",
    "classifier.fit(x_train, y_train)\n",
    "classifier.score(x_test, y_test)"
   ]
  },
  {
   "cell_type": "code",
   "execution_count": null,
   "id": "bd53ffe1",
   "metadata": {},
   "outputs": [],
   "source": [
    "clf = LogisticRegression(penalty='l1', dual=False, tol=0.001, C=1.0, fit_intercept=True, \n",
    "                   intercept_scaling=1, class_weight='balanced', random_state=None, \n",
    "                   solver='liblinear', max_iter=1000, multi_class='ovr', verbose=0)\n",
    "\n",
    "clf.fit(x_train, np.ravel(y_train.values))\n",
    "y_pred = clf.predict_proba(x_test)\n",
    "y_pred = y_pred[:,1]\n",
    "\n",
    "display(y_pred,Rowing_df)"
   ]
  },
  {
   "cell_type": "code",
   "execution_count": null,
   "id": "c0009a75",
   "metadata": {},
   "outputs": [],
   "source": [
    "Rowing_df['Predictions'] = y_pred.tolist()\n",
    "Rowing_final = Rowing_df.drop_duplicates(subset=['NOC'], keep='last')\n",
    "Rowing_final.drop([\"Host\",\"GDP_Per_Cap\", \"Global_Pop_Bin\", \"Rural_Pop_Bin\", \"Life_Expect_Bin\", \"Global_GDP_Perc_Bin\", \"Medal\"], 1)"
   ]
  },
  {
   "cell_type": "markdown",
   "id": "c7672e35",
   "metadata": {},
   "source": [
    "Shooting Logistic Regression"
   ]
  },
  {
   "cell_type": "code",
   "execution_count": null,
   "id": "67081ac8",
   "metadata": {},
   "outputs": [],
   "source": [
    "Shooting_df = data_df[data_df['Sport'] == \"Shooting\"]\n",
    "Shooting_df = Shooting_df.dropna()"
   ]
  },
  {
   "cell_type": "code",
   "execution_count": null,
   "id": "652368b2",
   "metadata": {},
   "outputs": [],
   "source": [
    "Shooting_dummies = pd.get_dummies(Shooting_df)\n",
    "Shooting_dummies.head(3)"
   ]
  },
  {
   "cell_type": "code",
   "execution_count": null,
   "id": "c7dd1f88",
   "metadata": {},
   "outputs": [],
   "source": [
    "x_train = Shooting_dummies.drop(columns=['Medal'])\n",
    "y_train = Shooting_dummies['Medal']\n",
    "\n",
    "x_test = Shooting_dummies.drop(columns=['Medal'])\n",
    "y_test = Shooting_dummies['Medal']\n",
    "\n",
    "classifier = LogisticRegression()\n",
    "classifier.fit(x_train, y_train)\n",
    "classifier.score(x_test, y_test)"
   ]
  },
  {
   "cell_type": "code",
   "execution_count": null,
   "id": "e5af70e5",
   "metadata": {},
   "outputs": [],
   "source": [
    "clf = LogisticRegression(penalty='l1', dual=False, tol=0.001, C=1.0, fit_intercept=True, \n",
    "                   intercept_scaling=1, class_weight='balanced', random_state=None, \n",
    "                   solver='liblinear', max_iter=1000, multi_class='ovr', verbose=0)\n",
    "\n",
    "clf.fit(x_train, np.ravel(y_train.values))\n",
    "y_pred = clf.predict_proba(x_test)\n",
    "y_pred = y_pred[:,1]\n",
    "\n",
    "display(y_pred,Shooting_df)"
   ]
  },
  {
   "cell_type": "code",
   "execution_count": null,
   "id": "77c1867f",
   "metadata": {},
   "outputs": [],
   "source": [
    "Shooting_df['Predictions'] = y_pred.tolist()\n",
    "Shooting_final = Shooting_df.drop_duplicates(subset=['NOC'], keep='last')\n",
    "Shooting_final.drop([\"Host\",\"GDP_Per_Cap\", \"Global_Pop_Bin\", \"Rural_Pop_Bin\", \"Life_Expect_Bin\", \"Global_GDP_Perc_Bin\", \"Medal\"], 1)"
   ]
  },
  {
   "cell_type": "markdown",
   "id": "ca58607b",
   "metadata": {},
   "source": [
    "Fencing Logistic Regression"
   ]
  },
  {
   "cell_type": "code",
   "execution_count": null,
   "id": "839ecce6",
   "metadata": {},
   "outputs": [],
   "source": [
    "Fencing_df = data_df[data_df['Sport'] == \"Fencing\"]\n",
    "Fencing_df = Fencing_df.dropna()\n",
    "Fencing_df"
   ]
  },
  {
   "cell_type": "code",
   "execution_count": null,
   "id": "dd5956b9",
   "metadata": {},
   "outputs": [],
   "source": [
    "Fencing_dummies = pd.get_dummies(Fencing_df)\n",
    "Fencing_dummies.head(3)"
   ]
  },
  {
   "cell_type": "code",
   "execution_count": null,
   "id": "db8a4858",
   "metadata": {
    "scrolled": true
   },
   "outputs": [],
   "source": [
    "x_train = Fencing_dummies.drop(columns=['Medal'])\n",
    "y_train = Fencing_dummies['Medal']\n",
    "\n",
    "x_test = Fencing_dummies.drop(columns=['Medal'])\n",
    "y_test = Fencing_dummies['Medal']\n",
    "\n",
    "classifier = LogisticRegression()\n",
    "classifier.fit(x_train, y_train)\n",
    "classifier.score(x_test, y_test)"
   ]
  },
  {
   "cell_type": "code",
   "execution_count": null,
   "id": "1a0cc8f0",
   "metadata": {},
   "outputs": [],
   "source": [
    "clf = LogisticRegression(penalty='l1', dual=False, tol=0.001, C=1.0, fit_intercept=True, \n",
    "                   intercept_scaling=1, class_weight='balanced', random_state=None, \n",
    "                   solver='liblinear', max_iter=1000, multi_class='ovr', verbose=0)\n",
    "\n",
    "clf.fit(x_train, np.ravel(y_train.values))\n",
    "y_pred = clf.predict_proba(x_test)\n",
    "y_pred = y_pred[:,1]\n",
    "\n",
    "display(y_pred,Fencing_df)"
   ]
  },
  {
   "cell_type": "code",
   "execution_count": null,
   "id": "c8d5a988",
   "metadata": {
    "scrolled": true
   },
   "outputs": [],
   "source": [
    "Fencing_df['Predictions'] = y_pred.tolist()\n",
    "Fencing_final = Fencing_df.drop_duplicates(subset=['NOC'], keep='last')\n",
    "Fencing_final.drop([\"Host\",\"GDP_Per_Cap\", \"Global_Pop_Bin\", \"Rural_Pop_Bin\", \"Life_Expect_Bin\", \"Global_GDP_Perc_Bin\", \"Medal\"], 1)"
   ]
  },
  {
   "cell_type": "markdown",
   "id": "735d09da",
   "metadata": {},
   "source": [
    "Canoeing Logistic Regression"
   ]
  },
  {
   "cell_type": "code",
   "execution_count": null,
   "id": "50ebc7c1",
   "metadata": {},
   "outputs": [],
   "source": [
    "Canoeing_df = data_df[data_df['Sport'] == \"Canoeing\"]\n",
    "Canoeing_df = Canoeing_df.dropna()"
   ]
  },
  {
   "cell_type": "code",
   "execution_count": null,
   "id": "20a248bc",
   "metadata": {},
   "outputs": [],
   "source": [
    "Canoeing_dummies = pd.get_dummies(Canoeing_df)\n",
    "Canoeing_dummies.head(3)"
   ]
  },
  {
   "cell_type": "code",
   "execution_count": null,
   "id": "c02d9b3f",
   "metadata": {
    "scrolled": true
   },
   "outputs": [],
   "source": [
    "x_train = Canoeing_dummies.drop(columns=['Medal'])\n",
    "y_train = Canoeing_dummies['Medal']\n",
    "\n",
    "x_test = Canoeing_dummies.drop(columns=['Medal'])\n",
    "y_test = Canoeing_dummies['Medal']\n",
    "\n",
    "classifier = LogisticRegression()\n",
    "classifier.fit(x_train, y_train)\n",
    "classifier.score(x_test, y_test)"
   ]
  },
  {
   "cell_type": "code",
   "execution_count": null,
   "id": "4d81bf7a",
   "metadata": {},
   "outputs": [],
   "source": [
    "clf = LogisticRegression(penalty='l1', dual=False, tol=0.001, C=1.0, fit_intercept=True, \n",
    "                   intercept_scaling=1, class_weight='balanced', random_state=None, \n",
    "                   solver='liblinear', max_iter=1000, multi_class='ovr', verbose=0)\n",
    "\n",
    "clf.fit(x_train, np.ravel(y_train.values))\n",
    "y_pred = clf.predict_proba(x_test)\n",
    "y_pred = y_pred[:,1]\n",
    "\n",
    "display(y_pred,Canoeing_df)"
   ]
  },
  {
   "cell_type": "code",
   "execution_count": null,
   "id": "581ed917",
   "metadata": {},
   "outputs": [],
   "source": [
    "Canoeing_df['Predictions'] = y_pred.tolist()\n",
    "Canoeing_final = Canoeing_df.drop_duplicates(subset=['NOC'], keep='last')\n",
    "Canoeing_final.drop([\"Host\",\"GDP_Per_Cap\", \"Global_Pop_Bin\", \"Rural_Pop_Bin\", \"Life_Expect_Bin\", \"Global_GDP_Perc_Bin\", \"Medal\"], 1)"
   ]
  },
  {
   "cell_type": "markdown",
   "id": "43595eb5",
   "metadata": {},
   "source": [
    "Wrestling Logistic Regression"
   ]
  },
  {
   "cell_type": "code",
   "execution_count": null,
   "id": "12298913",
   "metadata": {},
   "outputs": [],
   "source": [
    "Wrestling_df = data_df[data_df['Sport'] == \"Wrestling\"]\n",
    "Wrestling_df = Wrestling_df.dropna()"
   ]
  },
  {
   "cell_type": "code",
   "execution_count": null,
   "id": "f633ea96",
   "metadata": {},
   "outputs": [],
   "source": [
    "Wrestling_dummies = pd.get_dummies(Wrestling_df)\n",
    "Wrestling_dummies.head(3)"
   ]
  },
  {
   "cell_type": "code",
   "execution_count": null,
   "id": "18d4a4b7",
   "metadata": {},
   "outputs": [],
   "source": [
    "x_train = Wrestling_dummies.drop(columns=['Medal'])\n",
    "y_train = Wrestling_dummies['Medal']\n",
    "\n",
    "x_test = Wrestling_dummies.drop(columns=['Medal'])\n",
    "y_test = Wrestling_dummies['Medal']\n",
    "\n",
    "classifier = LogisticRegression()\n",
    "classifier.fit(x_train, y_train)\n",
    "classifier.score(x_test, y_test)"
   ]
  },
  {
   "cell_type": "code",
   "execution_count": null,
   "id": "cc6dc60c",
   "metadata": {},
   "outputs": [],
   "source": [
    "clf = LogisticRegression(penalty='l1', dual=False, tol=0.001, C=1.0, fit_intercept=True, \n",
    "                   intercept_scaling=1, class_weight='balanced', random_state=None, \n",
    "                   solver='liblinear', max_iter=1000, multi_class='ovr', verbose=0)\n",
    "\n",
    "clf.fit(x_train, np.ravel(y_train.values))\n",
    "y_pred = clf.predict_proba(x_test)\n",
    "y_pred = y_pred[:,1]\n",
    "\n",
    "display(y_pred,Wrestling_df)"
   ]
  },
  {
   "cell_type": "code",
   "execution_count": null,
   "id": "8e221965",
   "metadata": {},
   "outputs": [],
   "source": [
    "Wrestling_df['Predictions'] = y_pred.tolist()\n",
    "Wrestling_final = Wrestling_df.drop_duplicates(subset=['NOC'], keep='last')\n",
    "Wrestling_final.drop([\"Host\",\"GDP_Per_Cap\", \"Global_Pop_Bin\", \"Rural_Pop_Bin\", \"Life_Expect_Bin\", \"Global_GDP_Perc_Bin\", \"Medal\"], 1)"
   ]
  },
  {
   "cell_type": "markdown",
   "id": "5d3fc30a",
   "metadata": {},
   "source": [
    "Football Logistic Regression"
   ]
  },
  {
   "cell_type": "code",
   "execution_count": null,
   "id": "f4763dbe",
   "metadata": {},
   "outputs": [],
   "source": [
    "Football_df = data_df[data_df['Sport'] == \"Football\"]\n",
    "Football_df = Football_df.dropna()\n",
    " \n",
    "print(Football_df)"
   ]
  },
  {
   "cell_type": "code",
   "execution_count": null,
   "id": "604515f2",
   "metadata": {},
   "outputs": [],
   "source": [
    "Football_dummies = pd.get_dummies(Football_df)\n",
    "Football_dummies.head(3)"
   ]
  },
  {
   "cell_type": "code",
   "execution_count": null,
   "id": "961a13fe",
   "metadata": {},
   "outputs": [],
   "source": [
    "x_train = Football_dummies.drop(columns=['Medal'])\n",
    "y_train = Football_dummies['Medal']\n",
    "\n",
    "x_test = Football_dummies.drop(columns=['Medal'])\n",
    "y_test = Football_dummies['Medal']\n",
    "\n",
    "classifier = LogisticRegression()\n",
    "classifier.fit(x_train, y_train)\n",
    "classifier.score(x_test, y_test)"
   ]
  },
  {
   "cell_type": "code",
   "execution_count": null,
   "id": "27c2e5e0",
   "metadata": {},
   "outputs": [],
   "source": [
    "clf = LogisticRegression(penalty='l1', dual=False, tol=0.001, C=1.0, fit_intercept=True, \n",
    "                   intercept_scaling=1, class_weight='balanced', random_state=None, \n",
    "                   solver='liblinear', max_iter=1000, multi_class='ovr', verbose=0)\n",
    "\n",
    "clf.fit(x_train, np.ravel(y_train.values))\n",
    "y_pred = clf.predict_proba(x_test)\n",
    "y_pred = y_pred[:,1]\n",
    "\n",
    "display(y_pred,Football_df)"
   ]
  },
  {
   "cell_type": "code",
   "execution_count": null,
   "id": "db453da5",
   "metadata": {},
   "outputs": [],
   "source": [
    "Football_df['Predictions'] = y_pred.tolist()\n",
    "Football_final = Football_df.drop_duplicates(subset=['NOC'], keep='last')\n",
    "Football_final.drop([\"Host\",\"GDP_Per_Cap\", \"Global_Pop_Bin\", \"Rural_Pop_Bin\", \"Life_Expect_Bin\", \"Global_GDP_Perc_Bin\", \"Medal\"], 1)"
   ]
  },
  {
   "cell_type": "markdown",
   "id": "c49779dc",
   "metadata": {},
   "source": [
    "Boxing Logistic Regression"
   ]
  },
  {
   "cell_type": "code",
   "execution_count": null,
   "id": "1d797326",
   "metadata": {},
   "outputs": [],
   "source": [
    "Boxing_df = data_df[data_df['Sport'] == \"Boxing\"]\n",
    "Boxing_df = Boxing_df.dropna()\n"
   ]
  },
  {
   "cell_type": "code",
   "execution_count": null,
   "id": "befed1bb",
   "metadata": {},
   "outputs": [],
   "source": [
    "Boxing_dummies = pd.get_dummies(Boxing_df)\n",
    "Boxing_dummies.head(3)"
   ]
  },
  {
   "cell_type": "code",
   "execution_count": null,
   "id": "a57c61dc",
   "metadata": {},
   "outputs": [],
   "source": [
    "x_train = Boxing_dummies.drop(columns=['Medal'])\n",
    "y_train = Boxing_dummies['Medal']\n",
    "\n",
    "x_test = Boxing_dummies.drop(columns=['Medal'])\n",
    "y_test = Boxing_dummies['Medal']\n",
    "\n",
    "classifier = LogisticRegression()\n",
    "classifier.fit(x_train, y_train)\n",
    "classifier.score(x_test, y_test)"
   ]
  },
  {
   "cell_type": "code",
   "execution_count": null,
   "id": "5767366c",
   "metadata": {},
   "outputs": [],
   "source": [
    "clf = LogisticRegression(penalty='l1', dual=False, tol=0.001, C=1.0, fit_intercept=True, \n",
    "                   intercept_scaling=1, class_weight='balanced', random_state=None, \n",
    "                   solver='liblinear', max_iter=1000, multi_class='ovr', verbose=0)\n",
    "\n",
    "clf.fit(x_train, np.ravel(y_train.values))\n",
    "y_pred = clf.predict_proba(x_test)\n",
    "y_pred = y_pred[:,1]\n",
    "\n",
    "display(y_pred,Boxing_df)"
   ]
  },
  {
   "cell_type": "code",
   "execution_count": null,
   "id": "cf95a7ca",
   "metadata": {},
   "outputs": [],
   "source": [
    "Boxing_df['Predictions'] = y_pred.tolist()\n",
    "Boxing_final = Boxing_df.drop_duplicates(subset=['NOC'], keep='last')\n",
    "Boxing_final.drop([\"Host\",\"GDP_Per_Cap\", \"Global_Pop_Bin\", \"Rural_Pop_Bin\", \"Life_Expect_Bin\", \"Global_GDP_Perc_Bin\", \"Medal\"], 1)"
   ]
  },
  {
   "cell_type": "markdown",
   "id": "89104082",
   "metadata": {},
   "source": [
    "Equestrianism Logistic Regression"
   ]
  },
  {
   "cell_type": "code",
   "execution_count": null,
   "id": "c4472288",
   "metadata": {},
   "outputs": [],
   "source": [
    "Equestrianism_df = data_df[data_df['Sport'] == \"Equestrianism\"]\n",
    "Equestrianism_df = Boxing_df.dropna()"
   ]
  },
  {
   "cell_type": "code",
   "execution_count": null,
   "id": "51e99cdf",
   "metadata": {},
   "outputs": [],
   "source": [
    "Equestrianism_dummies = pd.get_dummies(Equestrianism_df)\n",
    "Equestrianism_dummies.head(3)"
   ]
  },
  {
   "cell_type": "code",
   "execution_count": null,
   "id": "a1d6bb42",
   "metadata": {},
   "outputs": [],
   "source": [
    "x_train = Equestrianism_dummies.drop(columns=['Medal'])\n",
    "y_train = Equestrianism_dummies['Medal']\n",
    "\n",
    "x_test = Equestrianism_dummies.drop(columns=['Medal'])\n",
    "y_test = Equestrianism_dummies['Medal']\n",
    "\n",
    "classifier = LogisticRegression()\n",
    "classifier.fit(x_train, y_train)\n",
    "classifier.score(x_test, y_test)"
   ]
  },
  {
   "cell_type": "code",
   "execution_count": null,
   "id": "ab5b5b40",
   "metadata": {},
   "outputs": [],
   "source": [
    "clf = LogisticRegression(penalty='l1', dual=False, tol=0.001, C=1.0, fit_intercept=True, \n",
    "                   intercept_scaling=1, class_weight='balanced', random_state=None, \n",
    "                   solver='liblinear', max_iter=1000, multi_class='ovr', verbose=0)\n",
    "\n",
    "clf.fit(x_train, np.ravel(y_train.values))\n",
    "y_pred = clf.predict_proba(x_test)\n",
    "y_pred = y_pred[:,1]\n",
    "\n",
    "display(y_pred,Equestrianism_df)"
   ]
  },
  {
   "cell_type": "code",
   "execution_count": null,
   "id": "12655f28",
   "metadata": {},
   "outputs": [],
   "source": [
    "Equestrianism_df['Predictions'] = y_pred.tolist()\n",
    "Equestrianism_final = Equestrianism_df.drop_duplicates(subset=['NOC'], keep='last')\n",
    "Equestrianism_final.drop([\"Host\",\"GDP_Per_Cap\", \"Global_Pop_Bin\", \"Rural_Pop_Bin\", \"Life_Expect_Bin\", \"Global_GDP_Perc_Bin\", \"Medal\"], 1)"
   ]
  },
  {
   "cell_type": "markdown",
   "id": "1ca385c5",
   "metadata": {},
   "source": [
    "Judo Logistic Regression"
   ]
  },
  {
   "cell_type": "code",
   "execution_count": null,
   "id": "6e754ead",
   "metadata": {},
   "outputs": [],
   "source": [
    "Judo_df = data_df[data_df['Sport'] == \"Judo\"]\n",
    "Judo_df = Judo_df.dropna()"
   ]
  },
  {
   "cell_type": "code",
   "execution_count": null,
   "id": "6acb96be",
   "metadata": {},
   "outputs": [],
   "source": [
    "Judo_dummies = pd.get_dummies(Judo_df)\n",
    "Judo_dummies.head(3)"
   ]
  },
  {
   "cell_type": "code",
   "execution_count": null,
   "id": "8aae8a85",
   "metadata": {},
   "outputs": [],
   "source": [
    "x_train = Judo_dummies.drop(columns=['Medal'])\n",
    "y_train = Judo_dummies['Medal']\n",
    "\n",
    "x_test = Judo_dummies.drop(columns=['Medal'])\n",
    "y_test = Judo_dummies['Medal']\n",
    "\n",
    "classifier = LogisticRegression()\n",
    "classifier.fit(x_train, y_train)\n",
    "classifier.score(x_test, y_test)"
   ]
  },
  {
   "cell_type": "code",
   "execution_count": null,
   "id": "33ae7143",
   "metadata": {},
   "outputs": [],
   "source": [
    "clf = LogisticRegression(penalty='l1', dual=False, tol=0.001, C=1.0, fit_intercept=True, \n",
    "                   intercept_scaling=1, class_weight='balanced', random_state=None, \n",
    "                   solver='liblinear', max_iter=1000, multi_class='ovr', verbose=0)\n",
    "\n",
    "clf.fit(x_train, np.ravel(y_train.values))\n",
    "y_pred = clf.predict_proba(x_test)\n",
    "y_pred = y_pred[:,1]\n",
    "\n",
    "display(y_pred,Judo_df)"
   ]
  },
  {
   "cell_type": "code",
   "execution_count": null,
   "id": "2d51923e",
   "metadata": {},
   "outputs": [],
   "source": [
    "Judo_df['Predictions'] = y_pred.tolist()\n",
    "Judo_final = Judo_df.drop_duplicates(subset=['NOC'], keep='last')\n",
    "Judo_final.drop([\"Host\",\"GDP_Per_Cap\", \"Global_Pop_Bin\", \"Rural_Pop_Bin\", \"Life_Expect_Bin\", \"Global_GDP_Perc_Bin\", \"Medal\"], 1)"
   ]
  },
  {
   "cell_type": "markdown",
   "id": "c49996b1",
   "metadata": {},
   "source": [
    "Basketball Logistic Regression"
   ]
  },
  {
   "cell_type": "code",
   "execution_count": null,
   "id": "fe93d06e",
   "metadata": {},
   "outputs": [],
   "source": [
    "Basketball_df = data_df[data_df['Sport'] == \"Basketball\"]\n",
    "Basketball_df = Basketball_df.dropna()"
   ]
  },
  {
   "cell_type": "code",
   "execution_count": null,
   "id": "f2bd2c66",
   "metadata": {},
   "outputs": [],
   "source": [
    "Basketball_dummies = pd.get_dummies(Basketball_df)\n",
    "Basketball_dummies.head(3)"
   ]
  },
  {
   "cell_type": "code",
   "execution_count": null,
   "id": "ad4c3e5e",
   "metadata": {},
   "outputs": [],
   "source": [
    "x_train = Basketball_dummies.drop(columns=['Medal'])\n",
    "y_train = Basketball_dummies['Medal']\n",
    "\n",
    "x_test = Basketball_dummies.drop(columns=['Medal'])\n",
    "y_test = Basketball_dummies['Medal']\n",
    "\n",
    "classifier = LogisticRegression()\n",
    "classifier.fit(x_train, y_train)\n",
    "classifier.score(x_test, y_test)"
   ]
  },
  {
   "cell_type": "code",
   "execution_count": null,
   "id": "51b255e2",
   "metadata": {},
   "outputs": [],
   "source": [
    "clf = LogisticRegression(penalty='l1', dual=False, tol=0.001, C=1.0, fit_intercept=True, \n",
    "                   intercept_scaling=1, class_weight='balanced', random_state=None, \n",
    "                   solver='liblinear', max_iter=1000, multi_class='ovr', verbose=0)\n",
    "\n",
    "clf.fit(x_train, np.ravel(y_train.values))\n",
    "y_pred = clf.predict_proba(x_test)\n",
    "y_pred = y_pred[:,1]\n",
    "\n",
    "display(y_pred,Basketball_df)"
   ]
  },
  {
   "cell_type": "code",
   "execution_count": null,
   "id": "db987603",
   "metadata": {},
   "outputs": [],
   "source": [
    "Basketball_df['Predictions'] = y_pred.tolist()\n",
    "Basketball_final = Basketball_df.drop_duplicates(subset=['NOC'], keep='last')\n",
    "Basketball_final.drop([\"Host\",\"GDP_Per_Cap\", \"Global_Pop_Bin\", \"Rural_Pop_Bin\", \"Life_Expect_Bin\", \"Global_GDP_Perc_Bin\", \"Medal\"], 1)"
   ]
  },
  {
   "cell_type": "markdown",
   "id": "187200c8",
   "metadata": {},
   "source": [
    "Handball Logistic Regression"
   ]
  },
  {
   "cell_type": "code",
   "execution_count": null,
   "id": "aefc9a8c",
   "metadata": {},
   "outputs": [],
   "source": [
    "Handball_df = data_df[data_df['Sport'] == \"Handball\"]\n",
    "Handball_df = Handball_df.dropna()"
   ]
  },
  {
   "cell_type": "code",
   "execution_count": null,
   "id": "ea5c858f",
   "metadata": {},
   "outputs": [],
   "source": [
    "Handball_dummies = pd.get_dummies(Handball_df)\n",
    "Handball_dummies.head(3)"
   ]
  },
  {
   "cell_type": "code",
   "execution_count": null,
   "id": "63d75613",
   "metadata": {},
   "outputs": [],
   "source": [
    "x_train = Handball_dummies.drop(columns=['Medal'])\n",
    "y_train = Handball_dummies['Medal']\n",
    "\n",
    "x_test = Handball_dummies.drop(columns=['Medal'])\n",
    "y_test = Handball_dummies['Medal']\n",
    "\n",
    "classifier = LogisticRegression()\n",
    "classifier.fit(x_train, y_train)\n",
    "classifier.score(x_test, y_test)"
   ]
  },
  {
   "cell_type": "code",
   "execution_count": null,
   "id": "5cda7ccb",
   "metadata": {},
   "outputs": [],
   "source": [
    "clf = LogisticRegression(penalty='l1', dual=False, tol=0.001, C=1.0, fit_intercept=True, \n",
    "                   intercept_scaling=1, class_weight='balanced', random_state=None, \n",
    "                   solver='liblinear', max_iter=1000, multi_class='ovr', verbose=0)\n",
    "\n",
    "clf.fit(x_train, np.ravel(y_train.values))\n",
    "y_pred = clf.predict_proba(x_test)\n",
    "y_pred = y_pred[:,1]\n",
    "\n",
    "display(y_pred,Handball_df)"
   ]
  },
  {
   "cell_type": "code",
   "execution_count": null,
   "id": "c9e78249",
   "metadata": {},
   "outputs": [],
   "source": [
    "Handball_df['Predictions'] = y_pred.tolist()\n",
    "Handball_final = Handball_df.drop_duplicates(subset=['NOC'], keep='last')\n",
    "Handball_final.drop([\"Host\",\"GDP_Per_Cap\", \"Global_Pop_Bin\", \"Rural_Pop_Bin\", \"Life_Expect_Bin\", \"Global_GDP_Perc_Bin\", \"Medal\"], 1)"
   ]
  },
  {
   "cell_type": "markdown",
   "id": "e46ca275",
   "metadata": {},
   "source": [
    "Volleyball"
   ]
  },
  {
   "cell_type": "code",
   "execution_count": null,
   "id": "c984487c",
   "metadata": {},
   "outputs": [],
   "source": [
    "Volleyball_df = data_df[data_df['Sport'] == \"Volleyball\"]\n",
    "Volleyball_df = Volleyball_df.dropna()"
   ]
  },
  {
   "cell_type": "code",
   "execution_count": null,
   "id": "7c5bdc47",
   "metadata": {},
   "outputs": [],
   "source": [
    "Volleyball_dummies = pd.get_dummies(Volleyball_df)\n",
    "Volleyball_dummies.head(3)"
   ]
  },
  {
   "cell_type": "code",
   "execution_count": null,
   "id": "8a8e927a",
   "metadata": {},
   "outputs": [],
   "source": [
    "x_train = Volleyball_dummies.drop(columns=['Medal'])\n",
    "y_train = Volleyball_dummies['Medal']\n",
    "\n",
    "x_test = Volleyball_dummies.drop(columns=['Medal'])\n",
    "y_test = Volleyball_dummies['Medal']\n",
    "\n",
    "classifier = LogisticRegression()\n",
    "classifier.fit(x_train, y_train)\n",
    "classifier.score(x_test, y_test)"
   ]
  },
  {
   "cell_type": "code",
   "execution_count": null,
   "id": "98544eb1",
   "metadata": {},
   "outputs": [],
   "source": [
    "clf = LogisticRegression(penalty='l1', dual=False, tol=0.001, C=1.0, fit_intercept=True, \n",
    "                   intercept_scaling=1, class_weight='balanced', random_state=None, \n",
    "                   solver='liblinear', max_iter=1000, multi_class='ovr', verbose=0)\n",
    "\n",
    "clf.fit(x_train, np.ravel(y_train.values))\n",
    "y_pred = clf.predict_proba(x_test)\n",
    "y_pred = y_pred[:,1]\n",
    "\n",
    "display(y_pred,Volleyball_df)"
   ]
  },
  {
   "cell_type": "code",
   "execution_count": null,
   "id": "1a37be5d",
   "metadata": {},
   "outputs": [],
   "source": [
    "Volleyball_df['Predictions'] = y_pred.tolist()\n",
    "Volleyball_final = Volleyball_df.drop_duplicates(subset=['NOC'], keep='last')\n",
    "Volleyball_final.drop([\"Host\",\"GDP_Per_Cap\", \"Global_Pop_Bin\", \"Rural_Pop_Bin\", \"Life_Expect_Bin\", \"Global_GDP_Perc_Bin\", \"Medal\"], 1)"
   ]
  },
  {
   "cell_type": "markdown",
   "id": "e7ce43f6",
   "metadata": {},
   "source": [
    "Weightlifting"
   ]
  },
  {
   "cell_type": "code",
   "execution_count": null,
   "id": "1b926a66",
   "metadata": {},
   "outputs": [],
   "source": [
    "Weightlifting_df = data_df[data_df['Sport'] == \"Weightlifting\"]\n",
    "Weightlifting_df = Weightlifting_df.dropna()"
   ]
  },
  {
   "cell_type": "code",
   "execution_count": null,
   "id": "8eff8fce",
   "metadata": {},
   "outputs": [],
   "source": [
    "Weightlifting_dummies = pd.get_dummies(Weightlifting_df)\n",
    "Weightlifting_dummies.head(3)"
   ]
  },
  {
   "cell_type": "code",
   "execution_count": null,
   "id": "3c9cb44c",
   "metadata": {},
   "outputs": [],
   "source": [
    "x_train = Weightlifting_dummies.drop(columns=['Medal'])\n",
    "y_train = Weightlifting_dummies['Medal']\n",
    "\n",
    "x_test = Weightlifting_dummies.drop(columns=['Medal'])\n",
    "y_test = Weightlifting_dummies['Medal']\n",
    "\n",
    "classifier = LogisticRegression()\n",
    "classifier.fit(x_train, y_train)\n",
    "classifier.score(x_test, y_test)"
   ]
  },
  {
   "cell_type": "code",
   "execution_count": null,
   "id": "047f534f",
   "metadata": {},
   "outputs": [],
   "source": [
    "clf = LogisticRegression(penalty='l1', dual=False, tol=0.001, C=1.0, fit_intercept=True, \n",
    "                   intercept_scaling=1, class_weight='balanced', random_state=None, \n",
    "                   solver='liblinear', max_iter=1000, multi_class='ovr', verbose=0)\n",
    "\n",
    "clf.fit(x_train, np.ravel(y_train.values))\n",
    "y_pred = clf.predict_proba(x_test)\n",
    "y_pred = y_pred[:,1]\n",
    "\n",
    "display(y_pred,Weightlifting_df)"
   ]
  },
  {
   "cell_type": "code",
   "execution_count": null,
   "id": "2a31ea95",
   "metadata": {},
   "outputs": [],
   "source": [
    "Weightlifting_df['Predictions'] = y_pred.tolist()\n",
    "Weightlifting_final = Weightlifting_df.drop_duplicates(subset=['NOC'], keep='last')\n",
    "Weightlifting_final.drop([\"Host\",\"GDP_Per_Cap\", \"Global_Pop_Bin\", \"Rural_Pop_Bin\", \"Life_Expect_Bin\", \"Global_GDP_Perc_Bin\", \"Medal\"], 1)"
   ]
  },
  {
   "cell_type": "markdown",
   "id": "052e25bb",
   "metadata": {},
   "source": [
    "Water Polo"
   ]
  },
  {
   "cell_type": "code",
   "execution_count": null,
   "id": "4c6bbbb8",
   "metadata": {},
   "outputs": [],
   "source": [
    "Polo_df = data_df[data_df['Sport'] == \"Water Polo\"]\n",
    "Polo_df = Polo_df.dropna()"
   ]
  },
  {
   "cell_type": "code",
   "execution_count": null,
   "id": "a1658386",
   "metadata": {},
   "outputs": [],
   "source": [
    "Polo_dummies = pd.get_dummies(Polo_df)\n",
    "Polo_dummies.head(3)"
   ]
  },
  {
   "cell_type": "code",
   "execution_count": null,
   "id": "f120e56f",
   "metadata": {},
   "outputs": [],
   "source": [
    "x_train = Polo_dummies.drop(columns=['Medal'])\n",
    "y_train = Polo_dummies['Medal']\n",
    "\n",
    "x_test = Polo_dummies.drop(columns=['Medal'])\n",
    "y_test = Polo_dummies['Medal']\n",
    "\n",
    "classifier = LogisticRegression()\n",
    "classifier.fit(x_train, y_train)\n",
    "classifier.score(x_test, y_test)"
   ]
  },
  {
   "cell_type": "code",
   "execution_count": null,
   "id": "b99b672e",
   "metadata": {},
   "outputs": [],
   "source": [
    "clf = LogisticRegression(penalty='l1', dual=False, tol=0.001, C=1.0, fit_intercept=True, \n",
    "                   intercept_scaling=1, class_weight='balanced', random_state=None, \n",
    "                   solver='liblinear', max_iter=1000, multi_class='ovr', verbose=0)\n",
    "\n",
    "clf.fit(x_train, np.ravel(y_train.values))\n",
    "y_pred = clf.predict_proba(x_test)\n",
    "y_pred = y_pred[:,1]\n",
    "\n",
    "display(y_pred,Polo_df)"
   ]
  },
  {
   "cell_type": "code",
   "execution_count": null,
   "id": "0095468e",
   "metadata": {},
   "outputs": [],
   "source": [
    "Polo_df['Predictions'] = y_pred.tolist()\n",
    "Polo_final = Polo_df.drop_duplicates(subset=['NOC'], keep='last')\n",
    "Polo_final.drop([\"Host\",\"GDP_Per_Cap\", \"Global_Pop_Bin\", \"Rural_Pop_Bin\", \"Life_Expect_Bin\", \"Global_GDP_Perc_Bin\", \"Medal\"], 1)"
   ]
  },
  {
   "cell_type": "markdown",
   "id": "1abd8034",
   "metadata": {},
   "source": [
    "Archery"
   ]
  },
  {
   "cell_type": "code",
   "execution_count": null,
   "id": "5795deca",
   "metadata": {},
   "outputs": [],
   "source": [
    "Archery_df = data_df[data_df['Sport'] == \"Archery\"]\n",
    "Archery_df = Archery_df.dropna()"
   ]
  },
  {
   "cell_type": "code",
   "execution_count": null,
   "id": "635091fe",
   "metadata": {},
   "outputs": [],
   "source": [
    "Archery_dummies = pd.get_dummies(Archery_df)\n",
    "Archery_dummies.head(3)"
   ]
  },
  {
   "cell_type": "code",
   "execution_count": null,
   "id": "69062b5e",
   "metadata": {},
   "outputs": [],
   "source": [
    "x_train = Archery_dummies.drop(columns=['Medal'])\n",
    "y_train = Archery_dummies['Medal']\n",
    "\n",
    "x_test = Archery_dummies.drop(columns=['Medal'])\n",
    "y_test = Archery_dummies['Medal']\n",
    "\n",
    "classifier = LogisticRegression()\n",
    "classifier.fit(x_train, y_train)\n",
    "classifier.score(x_test, y_test)"
   ]
  },
  {
   "cell_type": "code",
   "execution_count": null,
   "id": "b75e47c7",
   "metadata": {},
   "outputs": [],
   "source": [
    "clf = LogisticRegression(penalty='l1', dual=False, tol=0.001, C=1.0, fit_intercept=True, \n",
    "                   intercept_scaling=1, class_weight='balanced', random_state=None, \n",
    "                   solver='liblinear', max_iter=1000, multi_class='ovr', verbose=0)\n",
    "\n",
    "clf.fit(x_train, np.ravel(y_train.values))\n",
    "y_pred = clf.predict_proba(x_test)\n",
    "y_pred = y_pred[:,1]\n",
    "\n",
    "display(y_pred,Archery_df)"
   ]
  },
  {
   "cell_type": "code",
   "execution_count": null,
   "id": "d7d72556",
   "metadata": {},
   "outputs": [],
   "source": [
    "Archery_df['Predictions'] = y_pred.tolist()\n",
    "Archery_final = Archery_df.drop_duplicates(subset=['NOC'], keep='last')\n",
    "Archery_final.drop([\"Host\",\"GDP_Per_Cap\", \"Global_Pop_Bin\", \"Rural_Pop_Bin\", \"Life_Expect_Bin\", \"Global_GDP_Perc_Bin\", \"Medal\"], 1)"
   ]
  },
  {
   "cell_type": "markdown",
   "id": "3ed073ce",
   "metadata": {},
   "source": [
    "Diving"
   ]
  },
  {
   "cell_type": "code",
   "execution_count": null,
   "id": "cd7042f0",
   "metadata": {},
   "outputs": [],
   "source": [
    "Diving_df = data_df[data_df['Sport'] == \"Diving\"]\n",
    "Diving_df = Diving_df.dropna()"
   ]
  },
  {
   "cell_type": "code",
   "execution_count": null,
   "id": "f4debf07",
   "metadata": {},
   "outputs": [],
   "source": [
    "Diving_dummies = pd.get_dummies(Diving_df)\n",
    "Diving_dummies.head(3)"
   ]
  },
  {
   "cell_type": "code",
   "execution_count": null,
   "id": "20d89687",
   "metadata": {},
   "outputs": [],
   "source": [
    "x_train = Diving_dummies.drop(columns=['Medal'])\n",
    "y_train = Diving_dummies['Medal']\n",
    "\n",
    "x_test = Diving_dummies.drop(columns=['Medal'])\n",
    "y_test = Diving_dummies['Medal']\n",
    "\n",
    "classifier = LogisticRegression()\n",
    "classifier.fit(x_train, y_train)\n",
    "classifier.score(x_test, y_test)"
   ]
  },
  {
   "cell_type": "code",
   "execution_count": null,
   "id": "190f1f33",
   "metadata": {},
   "outputs": [],
   "source": [
    "clf = LogisticRegression(penalty='l1', dual=False, tol=0.001, C=1.0, fit_intercept=True, \n",
    "                   intercept_scaling=1, class_weight='balanced', random_state=None, \n",
    "                   solver='liblinear', max_iter=1000, multi_class='ovr', verbose=0)\n",
    "\n",
    "clf.fit(x_train, np.ravel(y_train.values))\n",
    "y_pred = clf.predict_proba(x_test)\n",
    "y_pred = y_pred[:,1]\n",
    "\n",
    "display(y_pred,Diving_df)"
   ]
  },
  {
   "cell_type": "code",
   "execution_count": null,
   "id": "ea7231d7",
   "metadata": {},
   "outputs": [],
   "source": [
    "Diving_df['Predictions'] = y_pred.tolist()\n",
    "Diving_final = Diving_df.drop_duplicates(subset=['NOC'], keep='last')\n",
    "Diving_final.drop([\"Host\",\"GDP_Per_Cap\", \"Global_Pop_Bin\", \"Rural_Pop_Bin\", \"Life_Expect_Bin\", \"Global_GDP_Perc_Bin\", \"Medal\"], 1)"
   ]
  },
  {
   "cell_type": "markdown",
   "id": "c3d9be0b",
   "metadata": {},
   "source": [
    "Tennis"
   ]
  },
  {
   "cell_type": "code",
   "execution_count": null,
   "id": "2dd15d9d",
   "metadata": {},
   "outputs": [],
   "source": [
    "Tennis_df = data_df[data_df['Sport'] == \"Tennis\"]\n",
    "Tennis_df = Tennis_df.dropna()"
   ]
  },
  {
   "cell_type": "code",
   "execution_count": null,
   "id": "43d14acd",
   "metadata": {},
   "outputs": [],
   "source": [
    "Tennis_dummies = pd.get_dummies(Tennis_df)\n",
    "Tennis_dummies.head(3)"
   ]
  },
  {
   "cell_type": "code",
   "execution_count": null,
   "id": "ed700348",
   "metadata": {},
   "outputs": [],
   "source": [
    "x_train = Tennis_dummies.drop(columns=['Medal'])\n",
    "y_train = Tennis_dummies['Medal']\n",
    "\n",
    "x_test = Tennis_dummies.drop(columns=['Medal'])\n",
    "y_test = Tennis_dummies['Medal']\n",
    "\n",
    "classifier = LogisticRegression()\n",
    "classifier.fit(x_train, y_train)\n",
    "classifier.score(x_test, y_test)"
   ]
  },
  {
   "cell_type": "code",
   "execution_count": null,
   "id": "d4bd93cd",
   "metadata": {},
   "outputs": [],
   "source": [
    "clf = LogisticRegression(penalty='l1', dual=False, tol=0.001, C=1.0, fit_intercept=True, \n",
    "                   intercept_scaling=1, class_weight='balanced', random_state=None, \n",
    "                   solver='liblinear', max_iter=1000, multi_class='ovr', verbose=0)\n",
    "\n",
    "clf.fit(x_train, np.ravel(y_train.values))\n",
    "y_pred = clf.predict_proba(x_test)\n",
    "y_pred = y_pred[:,1]\n",
    "\n",
    "display(y_pred,Tennis_df)"
   ]
  },
  {
   "cell_type": "code",
   "execution_count": null,
   "id": "bd6cb10a",
   "metadata": {},
   "outputs": [],
   "source": [
    "Tennis_df['Predictions'] = y_pred.tolist()\n",
    "Tennis_final = Tennis_df.drop_duplicates(subset=['NOC'], keep='last')\n",
    "Tennis_final.drop([\"Host\",\"GDP_Per_Cap\", \"Global_Pop_Bin\", \"Rural_Pop_Bin\", \"Life_Expect_Bin\", \"Global_GDP_Perc_Bin\", \"Medal\"], 1)"
   ]
  },
  {
   "cell_type": "markdown",
   "id": "87f0f40c",
   "metadata": {},
   "source": [
    "Table Tennis"
   ]
  },
  {
   "cell_type": "code",
   "execution_count": null,
   "id": "688d9a7e",
   "metadata": {},
   "outputs": [],
   "source": [
    "Table_Tennis_df = data_df[data_df['Sport'] == \"Table Tennis\"]\n",
    "Table_Tennis_df = Table_Tennis_df.dropna()"
   ]
  },
  {
   "cell_type": "code",
   "execution_count": null,
   "id": "5ea1f7f8",
   "metadata": {},
   "outputs": [],
   "source": [
    "Table_Tennis_dummies = pd.get_dummies(Table_Tennis_df)\n",
    "Table_Tennis_dummies.head(3)"
   ]
  },
  {
   "cell_type": "code",
   "execution_count": null,
   "id": "1538f0dc",
   "metadata": {},
   "outputs": [],
   "source": [
    "x_train = Table_Tennis_dummies.drop(columns=['Medal'])\n",
    "y_train = Table_Tennis_dummies['Medal']\n",
    "\n",
    "x_test = Table_Tennis_dummies.drop(columns=['Medal'])\n",
    "y_test = Table_Tennis_dummies['Medal']\n",
    "\n",
    "classifier = LogisticRegression()\n",
    "classifier.fit(x_train, y_train)\n",
    "classifier.score(x_test, y_test)"
   ]
  },
  {
   "cell_type": "code",
   "execution_count": null,
   "id": "a5cb5db2",
   "metadata": {},
   "outputs": [],
   "source": [
    "clf = LogisticRegression(penalty='l1', dual=False, tol=0.001, C=1.0, fit_intercept=True, \n",
    "                   intercept_scaling=1, class_weight='balanced', random_state=None, \n",
    "                   solver='liblinear', max_iter=1000, multi_class='ovr', verbose=0)\n",
    "\n",
    "clf.fit(x_train, np.ravel(y_train.values))\n",
    "y_pred = clf.predict_proba(x_test)\n",
    "y_pred = y_pred[:,1]\n",
    "\n",
    "display(y_pred,Table_Tennis_df)"
   ]
  },
  {
   "cell_type": "code",
   "execution_count": null,
   "id": "50bdc98c",
   "metadata": {},
   "outputs": [],
   "source": [
    "Table_Tennis_df['Predictions'] = y_pred.tolist()\n",
    "Table_Tennis_final = Table_Tennis_df.drop_duplicates(subset=['NOC'], keep='last')\n",
    "Table_Tennis_final.drop([\"Host\",\"GDP_Per_Cap\", \"Global_Pop_Bin\", \"Rural_Pop_Bin\", \"Life_Expect_Bin\", \"Global_GDP_Perc_Bin\", \"Medal\"], 1)"
   ]
  },
  {
   "cell_type": "markdown",
   "id": "b8cc8f5c",
   "metadata": {},
   "source": [
    "Badminton"
   ]
  },
  {
   "cell_type": "code",
   "execution_count": null,
   "id": "56e304ea",
   "metadata": {},
   "outputs": [],
   "source": [
    "Badminton_df = data_df[data_df['Sport'] == \"Badminton\"]\n",
    "Badminton_df = Badminton_df.dropna()"
   ]
  },
  {
   "cell_type": "code",
   "execution_count": null,
   "id": "d2861ce1",
   "metadata": {},
   "outputs": [],
   "source": [
    "Badminton_dummies = pd.get_dummies(Badminton_df)\n",
    "Badminton_dummies.head(3)"
   ]
  },
  {
   "cell_type": "code",
   "execution_count": null,
   "id": "397cda63",
   "metadata": {},
   "outputs": [],
   "source": [
    "x_train = Badminton_dummies.drop(columns=['Medal'])\n",
    "y_train = Badminton_dummies['Medal']\n",
    "\n",
    "x_test = Badminton_dummies.drop(columns=['Medal'])\n",
    "y_test = Badminton_dummies['Medal']\n",
    "\n",
    "classifier = LogisticRegression()\n",
    "classifier.fit(x_train, y_train)\n",
    "classifier.score(x_test, y_test)"
   ]
  },
  {
   "cell_type": "code",
   "execution_count": null,
   "id": "b22ce0e1",
   "metadata": {},
   "outputs": [],
   "source": [
    "clf = LogisticRegression(penalty='l1', dual=False, tol=0.001, C=1.0, fit_intercept=True, \n",
    "                   intercept_scaling=1, class_weight='balanced', random_state=None, \n",
    "                   solver='liblinear', max_iter=1000, multi_class='ovr', verbose=0)\n",
    "\n",
    "clf.fit(x_train, np.ravel(y_train.values))\n",
    "y_pred = clf.predict_proba(x_test)\n",
    "y_pred = y_pred[:,1]\n",
    "\n",
    "display(y_pred,Badminton_df)"
   ]
  },
  {
   "cell_type": "code",
   "execution_count": null,
   "id": "c2d2a9c8",
   "metadata": {},
   "outputs": [],
   "source": [
    "Badminton_df['Predictions'] = y_pred.tolist()\n",
    "Badminton_final = Badminton_df.drop_duplicates(subset=['NOC'], keep='last')\n",
    "Badminton_final.drop([\"Host\",\"GDP_Per_Cap\", \"Global_Pop_Bin\", \"Rural_Pop_Bin\", \"Life_Expect_Bin\", \"Global_GDP_Perc_Bin\", \"Medal\"], 1)"
   ]
  },
  {
   "cell_type": "markdown",
   "id": "8266ce80",
   "metadata": {},
   "source": [
    "Modern Pentathlon"
   ]
  },
  {
   "cell_type": "code",
   "execution_count": null,
   "id": "82bf9e76",
   "metadata": {},
   "outputs": [],
   "source": [
    "Pentathlon_df = data_df[data_df['Sport'] == \"Modern Pentathlon\"]\n",
    "Pentathlon_df = Pentathlon_df.dropna()"
   ]
  },
  {
   "cell_type": "code",
   "execution_count": null,
   "id": "893a34d5",
   "metadata": {},
   "outputs": [],
   "source": [
    "Pentathlon_dummies = pd.get_dummies(Pentathlon_df)\n",
    "Pentathlon_dummies.head(3)"
   ]
  },
  {
   "cell_type": "code",
   "execution_count": null,
   "id": "66e1d63a",
   "metadata": {},
   "outputs": [],
   "source": [
    "x_train = Pentathlon_dummies.drop(columns=['Medal'])\n",
    "y_train = Pentathlon_dummies['Medal']\n",
    "\n",
    "x_test = Pentathlon_dummies.drop(columns=['Medal'])\n",
    "y_test = Pentathlon_dummies['Medal']\n",
    "\n",
    "classifier = LogisticRegression()\n",
    "classifier.fit(x_train, y_train)\n",
    "classifier.score(x_test, y_test)"
   ]
  },
  {
   "cell_type": "code",
   "execution_count": null,
   "id": "6d534e46",
   "metadata": {},
   "outputs": [],
   "source": [
    "clf = LogisticRegression(penalty='l1', dual=False, tol=0.001, C=1.0, fit_intercept=True, \n",
    "                   intercept_scaling=1, class_weight='balanced', random_state=None, \n",
    "                   solver='liblinear', max_iter=1000, multi_class='ovr', verbose=0)\n",
    "\n",
    "clf.fit(x_train, np.ravel(y_train.values))\n",
    "y_pred = clf.predict_proba(x_test)\n",
    "y_pred = y_pred[:,1]\n",
    "\n",
    "display(y_pred,Pentathlon_df)"
   ]
  },
  {
   "cell_type": "code",
   "execution_count": null,
   "id": "4ccec930",
   "metadata": {},
   "outputs": [],
   "source": [
    "Pentathlon_df['Predictions'] = y_pred.tolist()\n",
    "Pentathlon_final = Pentathlon_df.drop_duplicates(subset=['NOC'], keep='last')\n",
    "Pentathlon_final.drop([\"Host\",\"GDP_Per_Cap\", \"Global_Pop_Bin\", \"Rural_Pop_Bin\", \"Life_Expect_Bin\", \"Global_GDP_Perc_Bin\", \"Medal\"], 1)"
   ]
  },
  {
   "cell_type": "markdown",
   "id": "34995baf",
   "metadata": {},
   "source": [
    "Synchronized Swimming"
   ]
  },
  {
   "cell_type": "code",
   "execution_count": null,
   "id": "7d83e353",
   "metadata": {},
   "outputs": [],
   "source": [
    "S_Swimming_df = data_df[data_df['Sport'] == \"Synchronized Swimming\"]\n",
    "S_Swimming_df = S_Swimming_df.dropna()"
   ]
  },
  {
   "cell_type": "code",
   "execution_count": null,
   "id": "d7da6629",
   "metadata": {},
   "outputs": [],
   "source": [
    "S_Swimming_dummies = pd.get_dummies(S_Swimming_df)\n",
    "S_Swimming_dummies.head(3)"
   ]
  },
  {
   "cell_type": "code",
   "execution_count": null,
   "id": "8d49c329",
   "metadata": {},
   "outputs": [],
   "source": [
    "x_train = S_Swimming_dummies.drop(columns=['Medal'])\n",
    "y_train = S_Swimming_dummies['Medal']\n",
    "\n",
    "x_test = S_Swimming_dummies.drop(columns=['Medal'])\n",
    "y_test = S_Swimming_dummies['Medal']\n",
    "\n",
    "classifier = LogisticRegression()\n",
    "classifier.fit(x_train, y_train)\n",
    "classifier.score(x_test, y_test)"
   ]
  },
  {
   "cell_type": "code",
   "execution_count": null,
   "id": "abdb1c1f",
   "metadata": {},
   "outputs": [],
   "source": [
    "clf = LogisticRegression(penalty='l1', dual=False, tol=0.001, C=1.0, fit_intercept=True, \n",
    "                   intercept_scaling=1, class_weight='balanced', random_state=None, \n",
    "                   solver='liblinear', max_iter=1000, multi_class='ovr', verbose=0)\n",
    "\n",
    "clf.fit(x_train, np.ravel(y_train.values))\n",
    "y_pred = clf.predict_proba(x_test)\n",
    "y_pred = y_pred[:,1]\n",
    "\n",
    "display(y_pred,S_Swimming_df)"
   ]
  },
  {
   "cell_type": "code",
   "execution_count": null,
   "id": "8d057809",
   "metadata": {},
   "outputs": [],
   "source": [
    "S_Swimming_df['Predictions'] = y_pred.tolist()\n",
    "S_Swimming_final = S_Swimming_df.drop_duplicates(subset=['NOC'], keep='last')\n",
    "S_Swimming_final.drop([\"Host\",\"GDP_Per_Cap\", \"Global_Pop_Bin\", \"Rural_Pop_Bin\", \"Life_Expect_Bin\", \"Global_GDP_Perc_Bin\", \"Medal\"], 1)"
   ]
  },
  {
   "cell_type": "markdown",
   "id": "95ecb913",
   "metadata": {},
   "source": [
    "Baseball"
   ]
  },
  {
   "cell_type": "code",
   "execution_count": null,
   "id": "55698577",
   "metadata": {},
   "outputs": [],
   "source": [
    "Baseball_df = data_df[data_df['Sport'] == \"Baseball\"]\n",
    "Baseball_df = Baseball_df.dropna()"
   ]
  },
  {
   "cell_type": "code",
   "execution_count": null,
   "id": "29e3ec35",
   "metadata": {},
   "outputs": [],
   "source": [
    "Baseball_dummies = pd.get_dummies(Baseball_df)\n",
    "Baseball_dummies.head(3)"
   ]
  },
  {
   "cell_type": "code",
   "execution_count": null,
   "id": "517cefc9",
   "metadata": {},
   "outputs": [],
   "source": [
    "x_train = Baseball_dummies.drop(columns=['Medal'])\n",
    "y_train = Baseball_dummies['Medal']\n",
    "\n",
    "x_test = Baseball_dummies.drop(columns=['Medal'])\n",
    "y_test = Baseball_dummies['Medal']\n",
    "\n",
    "classifier = LogisticRegression()\n",
    "classifier.fit(x_train, y_train)\n",
    "classifier.score(x_test, y_test)"
   ]
  },
  {
   "cell_type": "code",
   "execution_count": null,
   "id": "dee3a4eb",
   "metadata": {},
   "outputs": [],
   "source": [
    "clf = LogisticRegression(penalty='l1', dual=False, tol=0.001, C=1.0, fit_intercept=True, \n",
    "                   intercept_scaling=1, class_weight='balanced', random_state=None, \n",
    "                   solver='liblinear', max_iter=1000, multi_class='ovr', verbose=0)\n",
    "\n",
    "clf.fit(x_train, np.ravel(y_train.values))\n",
    "y_pred = clf.predict_proba(x_test)\n",
    "y_pred = y_pred[:,1]\n",
    "\n",
    "display(y_pred,Baseball_df)"
   ]
  },
  {
   "cell_type": "code",
   "execution_count": null,
   "id": "26352559",
   "metadata": {},
   "outputs": [],
   "source": [
    "Baseball_df['Predictions'] = y_pred.tolist()\n",
    "Baseball_final = Baseball_df.drop_duplicates(subset=['NOC'], keep='last')\n",
    "Baseball_final.drop([\"Host\",\"GDP_Per_Cap\", \"Global_Pop_Bin\", \"Rural_Pop_Bin\", \"Life_Expect_Bin\", \"Global_GDP_Perc_Bin\", \"Medal\"], 1)"
   ]
  },
  {
   "cell_type": "markdown",
   "id": "a9b14cf7",
   "metadata": {},
   "source": [
    "Rhythmic Gymnastics"
   ]
  },
  {
   "cell_type": "code",
   "execution_count": null,
   "id": "c52c90c6",
   "metadata": {},
   "outputs": [],
   "source": [
    "R_Gymnastics_df = data_df[data_df['Sport'] == \"Rhythmic Gymnastics\"]\n",
    "R_Gymnastics_df = R_Gymnastics_df.dropna()"
   ]
  },
  {
   "cell_type": "code",
   "execution_count": null,
   "id": "4a805b50",
   "metadata": {},
   "outputs": [],
   "source": [
    "R_Gymnastics_dummies = pd.get_dummies(R_Gymnastics_df)\n",
    "R_Gymnastics_dummies.head(3)"
   ]
  },
  {
   "cell_type": "code",
   "execution_count": null,
   "id": "92f3a797",
   "metadata": {},
   "outputs": [],
   "source": [
    "x_train = R_Gymnastics_dummies.drop(columns=['Medal'])\n",
    "y_train = R_Gymnastics_dummies['Medal']\n",
    "\n",
    "x_test = R_Gymnastics_dummies.drop(columns=['Medal'])\n",
    "y_test = R_Gymnastics_dummies['Medal']\n",
    "\n",
    "classifier = LogisticRegression()\n",
    "classifier.fit(x_train, y_train)\n",
    "classifier.score(x_test, y_test)"
   ]
  },
  {
   "cell_type": "code",
   "execution_count": null,
   "id": "eb48fa72",
   "metadata": {},
   "outputs": [],
   "source": [
    "clf = LogisticRegression(penalty='l1', dual=False, tol=0.001, C=1.0, fit_intercept=True, \n",
    "                   intercept_scaling=1, class_weight='balanced', random_state=None, \n",
    "                   solver='liblinear', max_iter=1000, multi_class='ovr', verbose=0)\n",
    "\n",
    "clf.fit(x_train, np.ravel(y_train.values))\n",
    "y_pred = clf.predict_proba(x_test)\n",
    "y_pred = y_pred[:,1]\n",
    "\n",
    "display(y_pred,R_Gymnastics_df)"
   ]
  },
  {
   "cell_type": "code",
   "execution_count": null,
   "id": "ce80ce3c",
   "metadata": {},
   "outputs": [],
   "source": [
    "R_Gymnastics_df['Predictions'] = y_pred.tolist()\n",
    "R_Gymnastics_final = R_Gymnastics_df.drop_duplicates(subset=['NOC'], keep='last')\n",
    "R_Gymnastics_final.drop([\"Host\",\"GDP_Per_Cap\", \"Global_Pop_Bin\", \"Rural_Pop_Bin\", \"Life_Expect_Bin\", \"Global_GDP_Perc_Bin\", \"Medal\"], 1)"
   ]
  },
  {
   "cell_type": "markdown",
   "id": "ec97455f",
   "metadata": {},
   "source": [
    "Taekwondo"
   ]
  },
  {
   "cell_type": "code",
   "execution_count": null,
   "id": "703deebe",
   "metadata": {},
   "outputs": [],
   "source": [
    "Taekwondo_df = data_df[data_df['Sport'] == \"Taekwondo\"]\n",
    "Taekwondo_df = Taekwondo_df.dropna()"
   ]
  },
  {
   "cell_type": "code",
   "execution_count": null,
   "id": "11d68782",
   "metadata": {},
   "outputs": [],
   "source": [
    "Taekwondo_dummies = pd.get_dummies(Taekwondo_df)\n",
    "Taekwondo_dummies.head(3)"
   ]
  },
  {
   "cell_type": "code",
   "execution_count": null,
   "id": "3f4292b6",
   "metadata": {},
   "outputs": [],
   "source": [
    "x_train = Taekwondo_dummies.drop(columns=['Medal'])\n",
    "y_train = Taekwondo_dummies['Medal']\n",
    "\n",
    "x_test = Taekwondo_dummies.drop(columns=['Medal'])\n",
    "y_test = Taekwondo_dummies['Medal']\n",
    "\n",
    "classifier = LogisticRegression()\n",
    "classifier.fit(x_train, y_train)\n",
    "classifier.score(x_test, y_test)"
   ]
  },
  {
   "cell_type": "code",
   "execution_count": null,
   "id": "dcd7ee68",
   "metadata": {},
   "outputs": [],
   "source": [
    "clf = LogisticRegression(penalty='l1', dual=False, tol=0.001, C=1.0, fit_intercept=True, \n",
    "                   intercept_scaling=1, class_weight='balanced', random_state=None, \n",
    "                   solver='liblinear', max_iter=1000, multi_class='ovr', verbose=0)\n",
    "\n",
    "clf.fit(x_train, np.ravel(y_train.values))\n",
    "y_pred = clf.predict_proba(x_test)\n",
    "y_pred = y_pred[:,1]\n",
    "\n",
    "display(y_pred,Taekwondo_df)"
   ]
  },
  {
   "cell_type": "code",
   "execution_count": null,
   "id": "29a44cee",
   "metadata": {},
   "outputs": [],
   "source": [
    "Taekwondo_df['Predictions'] = y_pred.tolist()\n",
    "Taekwondo_final = Taekwondo_df.drop_duplicates(subset=['NOC'], keep='last')\n",
    "Taekwondo_final.drop([\"Host\",\"GDP_Per_Cap\", \"Global_Pop_Bin\", \"Rural_Pop_Bin\", \"Life_Expect_Bin\", \"Global_GDP_Perc_Bin\", \"Medal\"], 1)"
   ]
  },
  {
   "cell_type": "markdown",
   "id": "392d538f",
   "metadata": {},
   "source": [
    "Beach Volleyball"
   ]
  },
  {
   "cell_type": "code",
   "execution_count": null,
   "id": "a4cec337",
   "metadata": {},
   "outputs": [],
   "source": [
    "B_Volleyball_df = data_df[data_df['Sport'] == \"Beach Volleyball\"]\n",
    "B_Volleyball_df = B_Volleyball_df.dropna()"
   ]
  },
  {
   "cell_type": "code",
   "execution_count": null,
   "id": "3b7fe19a",
   "metadata": {},
   "outputs": [],
   "source": [
    "B_Volleyball_dummies = pd.get_dummies(B_Volleyball_df)\n",
    "B_Volleyball_dummies.head(3)"
   ]
  },
  {
   "cell_type": "code",
   "execution_count": null,
   "id": "0da456ef",
   "metadata": {},
   "outputs": [],
   "source": [
    "x_train = B_Volleyball_dummies.drop(columns=['Medal'])\n",
    "y_train = B_Volleyball_dummies['Medal']\n",
    "\n",
    "x_test = B_Volleyball_dummies.drop(columns=['Medal'])\n",
    "y_test = B_Volleyball_dummies['Medal']\n",
    "\n",
    "classifier = LogisticRegression()\n",
    "classifier.fit(x_train, y_train)\n",
    "classifier.score(x_test, y_test)"
   ]
  },
  {
   "cell_type": "code",
   "execution_count": null,
   "id": "6b3f4eca",
   "metadata": {},
   "outputs": [],
   "source": [
    "clf = LogisticRegression(penalty='l1', dual=False, tol=0.001, C=1.0, fit_intercept=True, \n",
    "                   intercept_scaling=1, class_weight='balanced', random_state=None, \n",
    "                   solver='liblinear', max_iter=1000, multi_class='ovr', verbose=0)\n",
    "\n",
    "clf.fit(x_train, np.ravel(y_train.values))\n",
    "y_pred = clf.predict_proba(x_test)\n",
    "y_pred = y_pred[:,1]\n",
    "\n",
    "display(y_pred,B_Volleyball_df)"
   ]
  },
  {
   "cell_type": "code",
   "execution_count": null,
   "id": "bab4b7c0",
   "metadata": {},
   "outputs": [],
   "source": [
    "B_Volleyball_df['Predictions'] = y_pred.tolist()\n",
    "B_Volleyball_final = B_Volleyball_df.drop_duplicates(subset=['NOC'], keep='last')\n",
    "B_Volleyball_final.drop([\"Host\",\"GDP_Per_Cap\", \"Global_Pop_Bin\", \"Rural_Pop_Bin\", \"Life_Expect_Bin\", \"Global_GDP_Perc_Bin\", \"Medal\"], 1)"
   ]
  },
  {
   "cell_type": "markdown",
   "id": "553fc380",
   "metadata": {},
   "source": [
    "Triathlon"
   ]
  },
  {
   "cell_type": "code",
   "execution_count": null,
   "id": "47989563",
   "metadata": {},
   "outputs": [],
   "source": [
    "Triathlon_df = data_df[data_df['Sport'] == \"Triathlon\"]\n",
    "Triathlon_df = Triathlon_df.dropna()"
   ]
  },
  {
   "cell_type": "code",
   "execution_count": null,
   "id": "2618b205",
   "metadata": {},
   "outputs": [],
   "source": [
    "Triathlon_dummies = pd.get_dummies(Triathlon_df)\n",
    "Triathlon_dummies.head(3)"
   ]
  },
  {
   "cell_type": "code",
   "execution_count": null,
   "id": "1dc9456a",
   "metadata": {},
   "outputs": [],
   "source": [
    "x_train = Triathlon_dummies.drop(columns=['Medal'])\n",
    "y_train = Triathlon_dummies['Medal']\n",
    "\n",
    "x_test = Triathlon_dummies.drop(columns=['Medal'])\n",
    "y_test = Triathlon_dummies['Medal']\n",
    "\n",
    "classifier = LogisticRegression()\n",
    "classifier.fit(x_train, y_train)\n",
    "classifier.score(x_test, y_test)"
   ]
  },
  {
   "cell_type": "code",
   "execution_count": null,
   "id": "b5e9c10e",
   "metadata": {},
   "outputs": [],
   "source": [
    "clf = LogisticRegression(penalty='l1', dual=False, tol=0.001, C=1.0, fit_intercept=True, \n",
    "                   intercept_scaling=1, class_weight='balanced', random_state=None, \n",
    "                   solver='liblinear', max_iter=1000, multi_class='ovr', verbose=0)\n",
    "\n",
    "clf.fit(x_train, np.ravel(y_train.values))\n",
    "y_pred = clf.predict_proba(x_test)\n",
    "y_pred = y_pred[:,1]\n",
    "\n",
    "display(y_pred,Triathlon_df)"
   ]
  },
  {
   "cell_type": "code",
   "execution_count": null,
   "id": "3bf48919",
   "metadata": {},
   "outputs": [],
   "source": [
    "Triathlon_df['Predictions'] = y_pred.tolist()\n",
    "Triathlon_final = Triathlon_df.drop_duplicates(subset=['NOC'], keep='last')\n",
    "Triathlon_final.drop([\"Host\",\"GDP_Per_Cap\", \"Global_Pop_Bin\", \"Rural_Pop_Bin\", \"Life_Expect_Bin\", \"Global_GDP_Perc_Bin\", \"Medal\"], 1)"
   ]
  },
  {
   "cell_type": "markdown",
   "id": "395aa824",
   "metadata": {},
   "source": [
    "Softball"
   ]
  },
  {
   "cell_type": "code",
   "execution_count": null,
   "id": "e239b3f7",
   "metadata": {},
   "outputs": [],
   "source": [
    "Softball_df = data_df[data_df['Sport'] == \"Softball\"]\n",
    "Softball_df = Softball_df.dropna()"
   ]
  },
  {
   "cell_type": "code",
   "execution_count": null,
   "id": "468d0da2",
   "metadata": {},
   "outputs": [],
   "source": [
    "Softball_dummies = pd.get_dummies(Softball_df)\n",
    "Softball_dummies.head(3)"
   ]
  },
  {
   "cell_type": "code",
   "execution_count": null,
   "id": "11986d2c",
   "metadata": {},
   "outputs": [],
   "source": [
    "x_train = Softball_dummies.drop(columns=['Medal'])\n",
    "y_train = Softball_dummies['Medal']\n",
    "\n",
    "x_test = Softball_dummies.drop(columns=['Medal'])\n",
    "y_test = Softball_dummies['Medal']\n",
    "\n",
    "classifier = LogisticRegression()\n",
    "classifier.fit(x_train, y_train)\n",
    "classifier.score(x_test, y_test)"
   ]
  },
  {
   "cell_type": "code",
   "execution_count": null,
   "id": "57c26473",
   "metadata": {},
   "outputs": [],
   "source": [
    "clf = LogisticRegression(penalty='l1', dual=False, tol=0.001, C=1.0, fit_intercept=True, \n",
    "                   intercept_scaling=1, class_weight='balanced', random_state=None, \n",
    "                   solver='liblinear', max_iter=1000, multi_class='ovr', verbose=0)\n",
    "\n",
    "clf.fit(x_train, np.ravel(y_train.values))\n",
    "y_pred = clf.predict_proba(x_test)\n",
    "y_pred = y_pred[:,1]\n",
    "\n",
    "display(y_pred,Softball_df)"
   ]
  },
  {
   "cell_type": "code",
   "execution_count": null,
   "id": "bd4efa5a",
   "metadata": {},
   "outputs": [],
   "source": [
    "Softball_df['Predictions'] = y_pred.tolist()\n",
    "Softball_final = Softball_df.drop_duplicates(subset=['NOC'], keep='last')\n",
    "Softball_final.drop([\"Host\",\"GDP_Per_Cap\", \"Global_Pop_Bin\", \"Rural_Pop_Bin\", \"Life_Expect_Bin\", \"Global_GDP_Perc_Bin\", \"Medal\"], 1)"
   ]
  },
  {
   "cell_type": "markdown",
   "id": "9d7fe132",
   "metadata": {},
   "source": [
    "Rugby Sevens"
   ]
  },
  {
   "cell_type": "code",
   "execution_count": null,
   "id": "acdfc8df",
   "metadata": {},
   "outputs": [],
   "source": [
    "Rugby_df = data_df[data_df['Sport'] == \"Rugby Sevens\"]\n",
    "Rugby_df = Rugby_df.dropna()"
   ]
  },
  {
   "cell_type": "code",
   "execution_count": null,
   "id": "a0f61ad5",
   "metadata": {},
   "outputs": [],
   "source": [
    "Rugby_dummies = pd.get_dummies(Rugby_df)\n",
    "Rugby_dummies.head(3)"
   ]
  },
  {
   "cell_type": "code",
   "execution_count": null,
   "id": "c4adf6d7",
   "metadata": {},
   "outputs": [],
   "source": [
    "x_train = Rugby_dummies.drop(columns=['Medal'])\n",
    "y_train = Rugby_dummies['Medal']\n",
    "\n",
    "x_test = Rugby_dummies.drop(columns=['Medal'])\n",
    "y_test = Rugby_dummies['Medal']\n",
    "\n",
    "classifier = LogisticRegression()\n",
    "classifier.fit(x_train, y_train)\n",
    "classifier.score(x_test, y_test)"
   ]
  },
  {
   "cell_type": "code",
   "execution_count": null,
   "id": "5ffc3ea9",
   "metadata": {},
   "outputs": [],
   "source": [
    "clf = LogisticRegression(penalty='l1', dual=False, tol=0.001, C=1.0, fit_intercept=True, \n",
    "                   intercept_scaling=1, class_weight='balanced', random_state=None, \n",
    "                   solver='liblinear', max_iter=1000, multi_class='ovr', verbose=0)\n",
    "\n",
    "clf.fit(x_train, np.ravel(y_train.values))\n",
    "y_pred = clf.predict_proba(x_test)\n",
    "y_pred = y_pred[:,1]\n",
    "\n",
    "display(y_pred,Rugby_df)"
   ]
  },
  {
   "cell_type": "code",
   "execution_count": null,
   "id": "5efc4243",
   "metadata": {},
   "outputs": [],
   "source": [
    "Rugby_df['Predictions'] = y_pred.tolist()\n",
    "Rugby_final = Rugby_df.drop_duplicates(subset=['NOC'], keep='last')\n",
    "Rugby_final.drop([\"Host\",\"GDP_Per_Cap\", \"Global_Pop_Bin\", \"Rural_Pop_Bin\", \"Life_Expect_Bin\", \"Global_GDP_Perc_Bin\", \"Medal\"], 1)"
   ]
  },
  {
   "cell_type": "markdown",
   "id": "7b9d82d3",
   "metadata": {},
   "source": [
    "Trampolining"
   ]
  },
  {
   "cell_type": "code",
   "execution_count": null,
   "id": "1751fdb9",
   "metadata": {},
   "outputs": [],
   "source": [
    "Trampolining_df = data_df[data_df['Sport'] == \"Trampolining\"]\n",
    "Trampolining_df = Trampolining_df.dropna()"
   ]
  },
  {
   "cell_type": "code",
   "execution_count": null,
   "id": "39ba7b69",
   "metadata": {},
   "outputs": [],
   "source": [
    "Trampolining_dummies = pd.get_dummies(Trampolining_df)\n",
    "Trampolining_dummies.head(3)"
   ]
  },
  {
   "cell_type": "code",
   "execution_count": null,
   "id": "ce9b0cb3",
   "metadata": {},
   "outputs": [],
   "source": [
    "x_train = Trampolining_dummies.drop(columns=['Medal'])\n",
    "y_train = Trampolining_dummies['Medal']\n",
    "\n",
    "x_test = Trampolining_dummies.drop(columns=['Medal'])\n",
    "y_test = Trampolining_dummies['Medal']\n",
    "\n",
    "classifier = LogisticRegression()\n",
    "classifier.fit(x_train, y_train)\n",
    "classifier.score(x_test, y_test)"
   ]
  },
  {
   "cell_type": "code",
   "execution_count": null,
   "id": "e670e367",
   "metadata": {},
   "outputs": [],
   "source": [
    "clf = LogisticRegression(penalty='l1', dual=False, tol=0.001, C=1.0, fit_intercept=True, \n",
    "                   intercept_scaling=1, class_weight='balanced', random_state=None, \n",
    "                   solver='liblinear', max_iter=1000, multi_class='ovr', verbose=0)\n",
    "\n",
    "clf.fit(x_train, np.ravel(y_train.values))\n",
    "y_pred = clf.predict_proba(x_test)\n",
    "y_pred = y_pred[:,1]\n",
    "\n",
    "display(y_pred,Trampolining_df)"
   ]
  },
  {
   "cell_type": "code",
   "execution_count": null,
   "id": "dd7818be",
   "metadata": {},
   "outputs": [],
   "source": [
    "Trampolining_df['Predictions'] = y_pred.tolist()\n",
    "Trampolining_final = Trampolining_df.drop_duplicates(subset=['NOC'], keep='last')\n",
    "Trampolining_final.drop([\"Host\",\"GDP_Per_Cap\", \"Global_Pop_Bin\", \"Rural_Pop_Bin\", \"Life_Expect_Bin\", \"Global_GDP_Perc_Bin\", \"Medal\"], 1)"
   ]
  },
  {
   "cell_type": "markdown",
   "id": "f248c8ac",
   "metadata": {},
   "source": [
    "Golf"
   ]
  },
  {
   "cell_type": "code",
   "execution_count": null,
   "id": "ac5e5180",
   "metadata": {},
   "outputs": [],
   "source": [
    "Golf_df = data_df[data_df['Sport'] == \"Golf\"]\n",
    "Golf_df = Golf_df.dropna()"
   ]
  },
  {
   "cell_type": "code",
   "execution_count": null,
   "id": "31a9c713",
   "metadata": {},
   "outputs": [],
   "source": [
    "Golf_dummies = pd.get_dummies(Golf_df)\n",
    "Golf_dummies.head(3)"
   ]
  },
  {
   "cell_type": "code",
   "execution_count": null,
   "id": "e46b7efa",
   "metadata": {},
   "outputs": [],
   "source": [
    "x_train = Golf_dummies.drop(columns=['Medal'])\n",
    "y_train = Golf_dummies['Medal']\n",
    "\n",
    "x_test = Golf_dummies.drop(columns=['Medal'])\n",
    "y_test = Golf_dummies['Medal']\n",
    "\n",
    "classifier = LogisticRegression()\n",
    "classifier.fit(x_train, y_train)\n",
    "classifier.score(x_test, y_test)"
   ]
  },
  {
   "cell_type": "code",
   "execution_count": null,
   "id": "4194c626",
   "metadata": {},
   "outputs": [],
   "source": [
    "clf = LogisticRegression(penalty='l1', dual=False, tol=0.001, C=1.0, fit_intercept=True, \n",
    "                   intercept_scaling=1, class_weight='balanced', random_state=None, \n",
    "                   solver='liblinear', max_iter=1000, multi_class='ovr', verbose=0)\n",
    "\n",
    "clf.fit(x_train, np.ravel(y_train.values))\n",
    "y_pred = clf.predict_proba(x_test)\n",
    "y_pred = y_pred[:,1]\n",
    "\n",
    "display(y_pred,Golf_df)"
   ]
  },
  {
   "cell_type": "code",
   "execution_count": null,
   "id": "1e52d857",
   "metadata": {},
   "outputs": [],
   "source": [
    "Golf_df['Predictions'] = y_pred.tolist()\n",
    "Golf_final = Golf_df.drop_duplicates(subset=['NOC'], keep='last')\n",
    "Golf_final.drop([\"Host\",\"GDP_Per_Cap\", \"Global_Pop_Bin\", \"Rural_Pop_Bin\", \"Life_Expect_Bin\", \"Global_GDP_Perc_Bin\", \"Medal\"], 1)"
   ]
  }
 ],
 "metadata": {
  "kernelspec": {
   "display_name": "Python 3 (ipykernel)",
   "language": "python",
   "name": "python3"
  },
  "language_info": {
   "codemirror_mode": {
    "name": "ipython",
    "version": 3
   },
   "file_extension": ".py",
   "mimetype": "text/x-python",
   "name": "python",
   "nbconvert_exporter": "python",
   "pygments_lexer": "ipython3",
   "version": "3.9.7"
  }
 },
 "nbformat": 4,
 "nbformat_minor": 5
}
